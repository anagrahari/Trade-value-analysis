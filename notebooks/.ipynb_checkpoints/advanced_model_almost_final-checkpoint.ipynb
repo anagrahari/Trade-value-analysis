{
 "cells": [
  {
   "cell_type": "code",
   "execution_count": 2,
   "metadata": {
    "collapsed": false
   },
   "outputs": [
    {
     "name": "stderr",
     "output_type": "stream",
     "text": [
      "/usr/local/lib/python3.4/dist-packages/IPython/core/interactiveshell.py:2705: DtypeWarning: Columns (12) have mixed types. Specify dtype option on import or set low_memory=False.\n",
      "  interactivity=interactivity, compiler=compiler, result=result)\n"
     ]
    }
   ],
   "source": [
    "import pandas as pd\n",
    "import numpy as np\n",
    "import matplotlib.pyplot as plt\n",
    "%matplotlib inline\n",
    "from scipy.stats.stats import pearsonr\n",
    "import scipy.optimize as optimize\n",
    "import math\n",
    "from sklearn.linear_model import LinearRegression\n",
    "from sklearn.linear_model import Lasso\n",
    "from sklearn import linear_model\n",
    "from sklearn.linear_model import SGDClassifier\n",
    "from sklearn.ensemble import RandomForestRegressor\n",
    "from sklearn.tree import DecisionTreeRegressor\n",
    "from sklearn.ensemble import AdaBoostRegressor\n",
    "from sklearn import neighbors\n",
    "import seaborn as sns\n",
    "from math import sqrt\n",
    "from sklearn.metrics import mean_absolute_error, mean_squared_error, explained_variance_score, r2_score\n",
    "\n",
    "df_tran = pd.read_csv('../dataset/tran.txt',names=['primary-date','time','approximate-indicator','secondary-date','approximate-indicator',\n",
    "  'transaction-ID','player','type','from-team','from-league','to-team','to-league','draft-type','draft-round','pick-number','info'])\n",
    "df_playerid = pd.read_csv('../dataset/playerid_list.csv',names=['LASTNAME','FIRSTNAME','PLAYERID','DAVENPORTCODE','MLBCODE','player'],skiprows=1);\n",
    "df_master = pd.read_csv('../dataset/Master.csv')\n",
    "df_batting = pd.read_csv('../dataset/Batting.csv')\n",
    "df_pitching = pd.read_csv('../dataset/Pitching.csv')\n",
    "df_fielding = pd.read_csv('../dataset/Fielding.csv')\n",
    "df_batstat = pd.read_csv('../dataset/war_daily_bat.txt')\n",
    "df_pitchstat = pd.read_csv('../dataset/war_daily_pitch.txt')\n",
    "df_cpi = pd.read_csv('../dataset/CPI.csv')\n",
    "df_salaries = pd.read_csv('../dataset/Salaries.csv')\n",
    "pd.set_option('display.max_columns', 60)\n",
    "df_teams = pd.read_csv('../dataset/Teams.csv')\n",
    "df_allstars = pd.read_csv('../dataset/AllstarFull.csv')\n",
    "# Data Cleanup\n",
    "# Recontructing invalid dates\n",
    "df_tran['primary-date'] = df_tran['primary-date'].astype('str')\n",
    "df_tran['primary-date'] = df_tran['primary-date'].str.replace(r'\\A(\\d{4})[0]{4}', r'\\g<1>0101')\n",
    "df_tran['primary-date'] = df_tran['primary-date'].str.replace(r'\\A(\\d{4})(..)[0]{2}', r'\\g<1>\\g<2>01')\n",
    "\n",
    "#Extracting only trades from transaction dataframe\n",
    "df_tran = df_tran[df_tran['type'] == \"T \"]\n",
    "df_tran = df_tran[df_tran['to-league'].isin(['AL','NL'])]\n",
    "df_tran = df_tran[df_tran['from-league'].isin(['AL','NL'])]\n",
    "\n",
    "df_tran['primary-date'] = pd.to_datetime(df_tran['primary-date'], format='%Y%m%d')\n",
    "df_tran['tranYear'] = df_tran['primary-date'].apply(lambda x : int(x.year))\n",
    "\n",
    "dcash = df_tran['info'].str.replace(r' million', '000000') #replace million\n",
    "dcash = dcash.str.replace(r'\\D*\\d*(\\$\\d*)\\D*\\d*', '\\g<1>') #strip anything but $ followed by some digits\n",
    "dcash = dcash.str.replace(r'\\$$', '$0') #replace unknown cash as 0\n",
    "df_tran['cash'] = dcash.str.replace(r'^((?!\\$\\d*).)*$', '') #replace anything that doen't contain a dollar with empty string"
   ]
  },
  {
   "cell_type": "markdown",
   "metadata": {
    "collapsed": true
   },
   "source": [
    "Advanced Model"
   ]
  },
  {
   "cell_type": "code",
   "execution_count": 3,
   "metadata": {
    "collapsed": true
   },
   "outputs": [],
   "source": [
    "df_master['player_ID'] = df_master['bbrefID']\n",
    "df_batstat = pd.merge(df_batstat,df_master[['player_ID','retroID']],on='player_ID',how='inner')\n",
    "df_pitchstat = pd.merge(df_batstat,df_master[['player_ID','retroID']],on='player_ID',how='inner')\n",
    "df_batting = pd.merge(df_batting,df_master[['playerID','retroID','birthYear']],on='playerID')\n",
    "df_pitching = pd.merge(df_pitching,df_master[['playerID','retroID','birthYear']],on='playerID')\n",
    "df_fielding = pd.merge(df_fielding,df_master[['playerID','retroID','birthYear']],on='playerID')\n",
    "df_batting['age']= df_batting['yearID'] - df_batting['birthYear']\n",
    "df_pitching['age']= df_pitching['yearID'] - df_pitching['birthYear']\n",
    "df_fielding['age']= df_fielding['yearID'] - df_fielding['birthYear']\n",
    "df_allstars = pd.merge(df_allstars,df_master[['playerID','retroID']], on='playerID',how='inner')"
   ]
  },
  {
   "cell_type": "code",
   "execution_count": 4,
   "metadata": {
    "collapsed": false
   },
   "outputs": [
    {
     "name": "stderr",
     "output_type": "stream",
     "text": [
      "/usr/local/lib/python3.4/dist-packages/ipykernel/__main__.py:1: FutureWarning: sort(columns=....) is deprecated, use sort_values(by=.....)\n",
      "  if __name__ == '__main__':\n"
     ]
    }
   ],
   "source": [
    "df_batstat_sort = df_batstat.sort('age')\n",
    "df_batstat_sort = df_batstat_sort[pd.notnull(df_batstat_sort['age'])]\n",
    "agedict = {}\n",
    "\n",
    "#print df_batstat_sort.age\n",
    "for index, row in df_batstat_sort.iterrows():\n",
    "    if(row['age'] in agedict):\n",
    "        agedict[row['age']].append(row['WAR'])\n",
    "    else:\n",
    "        agedict[row['age']] = [row['WAR']]"
   ]
  },
  {
   "cell_type": "code",
   "execution_count": 5,
   "metadata": {
    "collapsed": false
   },
   "outputs": [
    {
     "name": "stderr",
     "output_type": "stream",
     "text": [
      "/usr/local/lib/python3.4/dist-packages/ipykernel/__main__.py:10: FutureWarning: sort(columns=....) is deprecated, use sort_values(by=.....)\n"
     ]
    }
   ],
   "source": [
    "age = []\n",
    "avg_WAR= []\n",
    "i=0\n",
    "for key in agedict:\n",
    "    if (~np.isnan(key)):\n",
    "        avg = np.nansum(agedict[key]) / float(len(agedict[key]))\n",
    "        age.append(key)\n",
    "        avg_WAR.append(avg)\n",
    "        \n",
    "age_df = pd.DataFrame({ 'Age' : age,'Average_WAR' : avg_WAR}).sort('Age')"
   ]
  },
  {
   "cell_type": "code",
   "execution_count": 6,
   "metadata": {
    "collapsed": true
   },
   "outputs": [],
   "source": [
    "#age_df\n",
    "def getAvgWarForAge(age):\n",
    "    return (age_df[(age_df['Age'] == age)]['Average_WAR']).iloc[0]"
   ]
  },
  {
   "cell_type": "code",
   "execution_count": null,
   "metadata": {
    "collapsed": false
   },
   "outputs": [],
   "source": [
    "plt.xlabel(\"Age\")\n",
    "plt.ylabel(\"Average_WAR\")\n",
    "plt.plot(age_df.Age, age_df.Average_WAR);"
   ]
  },
  {
   "cell_type": "code",
   "execution_count": 7,
   "metadata": {
    "collapsed": false
   },
   "outputs": [],
   "source": [
    "import re\n",
    "#Taking 2016 CPI as current\n",
    "curr_cpi = df_cpi[df_cpi['Year']==2016]['CPI'].iloc[0]\n",
    "\n",
    "#Calculating the value of each cash tran as per CPI to 2016 value\n",
    "#When incorrect values obeserved, making the new val as -1\n",
    "new_cash_val = []\n",
    "for index, row in df_tran.iterrows():\n",
    "    if not((pd.isnull(row['cash'])) ):\n",
    "        t1 = row['cash']\n",
    "        t1 = re.sub('[$]', '', t1)\n",
    "        old_cpi_df = df_cpi[df_cpi['Year']== row['tranYear']]['CPI']\n",
    "        old_cpi = old_cpi_df.iloc[0]\n",
    "        #print t1,old_cpi\n",
    "        try:\n",
    "            new_val = float((curr_cpi/old_cpi))*float(t1)\n",
    "            #print new_val\n",
    "            new_cash_val.append(new_val)\n",
    "        except ValueError as e:\n",
    "            new_cash_val.append(-1)\n",
    "    else:\n",
    "        new_cash_val.append(-1)\n",
    "\n",
    "#Finally adding the calculated values as a new column in df_tran without the $ sign\n",
    "df_tran['cash_curr'] = new_cash_val"
   ]
  },
  {
   "cell_type": "code",
   "execution_count": 8,
   "metadata": {
    "collapsed": false
   },
   "outputs": [],
   "source": [
    "cash_list = []\n",
    "for index,row in df_tran.iterrows():\n",
    "        if(row['cash_curr'] > 0):\n",
    "            cash_list.append(row['cash_curr'])\n",
    "cash_list.sort()\n",
    "rep_cash = sum(cash_list[:50])/50\n",
    "df_tran['cash_curr'] = df_tran['cash_curr'].apply(lambda x : rep_cash if x == 0 else x)"
   ]
  },
  {
   "cell_type": "code",
   "execution_count": 9,
   "metadata": {
    "collapsed": false
   },
   "outputs": [],
   "source": [
    "df_salaries = pd.read_csv('./dataset/Salaries.csv')\n",
    "#adjusting salaries based  on inflation\n",
    "curr_cpi = df_cpi[df_cpi['Year']==2016]['CPI'].iloc[0]\n",
    "#Calculating the value of each sallaries as per CPI to 2016 value\n",
    "salary_per_yr = []\n",
    "war=[]\n",
    "for index, row in df_salaries.iterrows():\n",
    "    if not((pd.isnull(row['salary'])) ):\n",
    "        t1 = row['salary']\n",
    "        old_cpi_df = df_cpi[df_cpi['Year']== row['yearID']]['CPI']\n",
    "        player_war = df_batstat[(df_batstat['year_ID']==row['yearID']) & (df_batstat['player_ID']==row['playerID'])]['WAR']\n",
    "        if (player_war.empty):\n",
    "            player_war = df_pitchstat[(df_pitchstat['year_ID']==row['yearID']) & (df_pitchstat['player_ID']==row['playerID'])]['WAR']\n",
    "        if (player_war.empty):\n",
    "            war.append(0)\n",
    "        else:\n",
    "            war.append(player_war.values[0])\n",
    "        old_cpi = old_cpi_df.iloc[0]\n",
    "        try:\n",
    "            new_val = float((curr_cpi/old_cpi))*float(t1)\n",
    "            salary_per_yr.append(new_val)\n",
    "        except ValueError as e:\n",
    "            salary_per_yr.append(0)\n",
    "    else:\n",
    "        war.append(0)\n",
    "        salary_per_yr.append(0)"
   ]
  },
  {
   "cell_type": "code",
   "execution_count": 10,
   "metadata": {
    "collapsed": false
   },
   "outputs": [
    {
     "name": "stdout",
     "output_type": "stream",
     "text": [
      "2514082.95989 0.639999608993\n"
     ]
    }
   ],
   "source": [
    "df_salaries['Salary_curr'] = salary_per_yr\n",
    "df_salaries['WAR'] = war\n",
    "average_salary = np.nansum(salary_per_yr) / float(len(salary_per_yr))\n",
    "average_war = np.nansum(war) / float(len(war))\n",
    "print(average_salary, average_war)"
   ]
  },
  {
   "cell_type": "code",
   "execution_count": 11,
   "metadata": {
    "collapsed": true
   },
   "outputs": [],
   "source": [
    "c2War =  average_war / average_salary "
   ]
  },
  {
   "cell_type": "code",
   "execution_count": 12,
   "metadata": {
    "collapsed": false
   },
   "outputs": [],
   "source": [
    "def player_performance_projection(playerID, age):\n",
    "    player_df = df_batstat[(df_batstat['retroID'] == playerID)]\n",
    "    player_df_before = player_df[player_df['age']< age]\n",
    "    diff = [0]\n",
    "    for index,row in player_df_before.iterrows():\n",
    "        diff.append(row['WAR'] - getAvgWarForAge(row['age']))\n",
    "    mPerf  = np.mean(diff)    \n",
    "    dict = {}\n",
    "    for j in range(1,16):\n",
    "        if age + j < 50:\n",
    "            dict[j] = (getAvgWarForAge(age + j) + mPerf/j)\n",
    "        else:\n",
    "            dict[j] = 0\n",
    "    return dict"
   ]
  },
  {
   "cell_type": "code",
   "execution_count": 13,
   "metadata": {
    "collapsed": false
   },
   "outputs": [],
   "source": [
    "def trade_value_year_projection(tranID,metric):\n",
    "    td = df_tran[(df_tran['transaction-ID'] == tranID)]\n",
    "    teams = td['from-team'].unique()\n",
    "    val = 0\n",
    "    player_vals = []\n",
    "    for x in teams:\n",
    "        valDict = {}\n",
    "        for index, row in td.iterrows():\n",
    "            val = 0\n",
    "            if (row['from-team'] == x):\n",
    "                if pd.isnull(row['player']):\n",
    "                    # filter out cash transactions or yet to be named player transaction\n",
    "                    if(row['cash_curr'] > 0):\n",
    "                        wVal =  row['cash_curr'] * c2War / 5\n",
    "                        for l in range(0,5):\n",
    "                            if l in valDict.keys():\n",
    "                                valDict[l] += wVal\n",
    "                            else:\n",
    "                                valDict[l] = wVal\n",
    "                    continue\n",
    "                birthYear = df_master['birthYear'][df_master['retroID'] == row['player']]\n",
    "                if birthYear.empty:\n",
    "                    continue\n",
    "                birthYear = birthYear.iloc[0]\n",
    "                age = row['tranYear'] - birthYear\n",
    "                tempDict = player_performance_projection(row['player'],age)\n",
    "                for i in range(1,16):\n",
    "                    if i in valDict.keys():\n",
    "                        valDict[i] += tempDict[i]\n",
    "                    else:\n",
    "                        valDict[i] = tempDict[i]\n",
    "        player_vals.append(valDict)\n",
    "    return player_vals"
   ]
  },
  {
   "cell_type": "code",
   "execution_count": 14,
   "metadata": {
    "collapsed": false
   },
   "outputs": [],
   "source": [
    "def f(c):\n",
    "    ret = 0.0\n",
    "    for key, value in dict1.items():\n",
    "        ret  += pow((1 - c[0]/100),key)*value\n",
    "    for key, value in dict2.items():\n",
    "        ret  -= pow((1 - c[1]/100),key)*value\n",
    "    return abs(ret)\n",
    "\n",
    "bnds = ((0, 100), (0, 100))"
   ]
  },
  {
   "cell_type": "code",
   "execution_count": 15,
   "metadata": {
    "collapsed": false
   },
   "outputs": [],
   "source": [
    "trade_val_projection_list = []\n",
    "transactions = df_tran['transaction-ID'].unique()\n",
    "for x in transactions:\n",
    "    listnew = trade_value_year_projection(x,'WAR')\n",
    "    dict1 = listnew[0]\n",
    "    dict2 = listnew[1]\n",
    "    result = optimize.minimize(f, (50, 50), method='TNC', bounds=bnds)\n",
    "    trade_val_projection_list.append((x,result.x,result.fun))"
   ]
  },
  {
   "cell_type": "code",
   "execution_count": 16,
   "metadata": {
    "collapsed": true
   },
   "outputs": [],
   "source": [
    "import pickle\n",
    "with open('trade_val_projection.pkl', 'wb') as f:\n",
    "    pickle.dump(trade_val_projection_list,f)"
   ]
  },
  {
   "cell_type": "code",
   "execution_count": 17,
   "metadata": {
    "collapsed": true
   },
   "outputs": [],
   "source": [
    "def trade_value_year_actual(tranID,metric):\n",
    "    td = df_tran[(df_tran['transaction-ID'] == tranID)]\n",
    "    teams = td['from-team'].unique()\n",
    "    val = 0\n",
    "    player_vals = []\n",
    "    for x in teams:\n",
    "        valDict = {}\n",
    "        for index, row in td.iterrows():\n",
    "            val = 0\n",
    "            if (row['from-team'] == x):\n",
    "                if pd.isnull(row['player']):\n",
    "                    # filter out cash transactions or yet to be named player transaction\n",
    "                    continue\n",
    "                player_df = df_batstat[(df_batstat['retroID'] == row['player'])]\n",
    "                player_df_year = player_df[(player_df['year_ID'] == row['tranYear'])]\n",
    "                #instead need a df for the player after the trans year, and not just next, but all consecutive years\n",
    "                for i in range(1,15):\n",
    "                    player_df_year_next = player_df[(player_df['year_ID'] == (row['tranYear'] + i))]\n",
    "                    if not player_df_year_next.empty:\n",
    "                        # get the value of metric for each year after trade until 15 years else assume 0\n",
    "                        t = float(player_df_year_next[metric].iloc[0])\n",
    "                        #print(t)\n",
    "                        if i in valDict.keys():\n",
    "                            valDict[i] += t\n",
    "                        else:\n",
    "                            valDict[i] = t\n",
    "                    else:\n",
    "                        ## figure out a way to find war for these players\n",
    "                        if i in valDict.keys():\n",
    "                            valDict[i] += 0\n",
    "                        else:\n",
    "                            valDict[i] = 0\n",
    "        player_vals.append(valDict)\n",
    "    return player_vals"
   ]
  },
  {
   "cell_type": "code",
   "execution_count": 19,
   "metadata": {
    "collapsed": false
   },
   "outputs": [],
   "source": [
    "def f2(c,dict_1,dict_2):\n",
    "    ret = 0.0\n",
    "    for key, value in dict_1.items():\n",
    "        ret  += pow((1 - c[0]/100),key)*value\n",
    "    for key, value in dict_2.items():\n",
    "        ret  -= pow((1 - c[1]/100),key)*value\n",
    "    return ret\n",
    "\n",
    "diff_list = [] \n",
    "for i in trade_val_projection_list:\n",
    "    listnew = trade_value_year_actual(i[0],'WAR') #should come from projections instead of actual value\n",
    "    act = f2( i[1], listnew[0], listnew[1])\n",
    "    diff_list.append((i[0],abs(act),act))"
   ]
  },
  {
   "cell_type": "code",
   "execution_count": 20,
   "metadata": {
    "collapsed": true
   },
   "outputs": [],
   "source": [
    "import pickle\n",
    "with open('diff_list.pkl', 'wb') as f:\n",
    "    pickle.dump(diff_list,f)"
   ]
  },
  {
   "cell_type": "code",
   "execution_count": 3,
   "metadata": {
    "collapsed": true
   },
   "outputs": [],
   "source": [
    "import pickle\n",
    "with open(\"diff_list.pkl\", \"rb\") as input_file:\n",
    "    diff_list = pickle.load(input_file)"
   ]
  },
  {
   "cell_type": "code",
   "execution_count": 21,
   "metadata": {
    "collapsed": true
   },
   "outputs": [],
   "source": [
    "sList = sorted(diff_list,key=lambda x: x[1], reverse=True)"
   ]
  },
  {
   "cell_type": "code",
   "execution_count": 19,
   "metadata": {
    "collapsed": false
   },
   "outputs": [],
   "source": [
    "rank_df = pd.DataFrame(columns = ['Rank','Date','Team1','Team2','Players Team1','Player Team2','Trade Value Diff'])\n",
    "k = 0\n",
    "for i in sList:\n",
    "    tranID = i[0]\n",
    "    tran = df_tran[df_tran['transaction-ID'] == tranID]\n",
    "    teams = tran['from-team'].unique()\n",
    "    t1 = teams[0]\n",
    "    t2 = teams[1]\n",
    "    p1List = []\n",
    "    p2List = []\n",
    "    for index,row in tran.iterrows():\n",
    "        pl = df_master[df_master['retroID'] == row['player']]\n",
    "        if row['from-team'] == t1:\n",
    "            p1List.append(''.join(pl['nameFirst'].values +\" \"+ pl['nameLast'].values))\n",
    "        else:\n",
    "            p2List.append(''.join(pl['nameFirst'].values + \" \" + pl['nameLast'].values))\n",
    "    p1str = ','.join(p1List)\n",
    "    p2str = ','.join(p2List)\n",
    "    date = tran['primary-date'].iloc[0]\n",
    "    rank_df.loc[k] = [int(k+1),date,t1,t2,p1str,p2str,i[1]]\n",
    "    k += 1"
   ]
  },
  {
   "cell_type": "code",
   "execution_count": 20,
   "metadata": {
    "collapsed": false
   },
   "outputs": [
    {
     "data": {
      "text/html": [
       "<div>\n",
       "<table border=\"1\" class=\"dataframe\">\n",
       "  <thead>\n",
       "    <tr style=\"text-align: right;\">\n",
       "      <th></th>\n",
       "      <th>Rank</th>\n",
       "      <th>Date</th>\n",
       "      <th>Team1</th>\n",
       "      <th>Team2</th>\n",
       "      <th>Players Team1</th>\n",
       "      <th>Player Team2</th>\n",
       "      <th>Trade Value Diff</th>\n",
       "    </tr>\n",
       "  </thead>\n",
       "  <tbody>\n",
       "    <tr>\n",
       "      <th>0</th>\n",
       "      <td>1.0</td>\n",
       "      <td>1949-12-14</td>\n",
       "      <td>NY1</td>\n",
       "      <td>BSN</td>\n",
       "      <td>Sid Gordon,Buddy Kerr,Willard Marshall,Red Webb</td>\n",
       "      <td>Eddie Stanky,Al Dark</td>\n",
       "      <td>8.103336</td>\n",
       "    </tr>\n",
       "    <tr>\n",
       "      <th>1</th>\n",
       "      <td>2.0</td>\n",
       "      <td>1959-12-06</td>\n",
       "      <td>CLE</td>\n",
       "      <td>CHA</td>\n",
       "      <td>Minnie Minoso,Dick Brown,Don Ferrarese,Jake St...</td>\n",
       "      <td>John Romano,Bubba Phillips,Norm Cash</td>\n",
       "      <td>7.831614</td>\n",
       "    </tr>\n",
       "    <tr>\n",
       "      <th>2</th>\n",
       "      <td>3.0</td>\n",
       "      <td>1963-01-14</td>\n",
       "      <td>BAL</td>\n",
       "      <td>CHA</td>\n",
       "      <td>Hoyt Wilhelm,Dave Nicholson,Pete Ward,Ron Hansen</td>\n",
       "      <td>Luis Aparicio,Al Smith</td>\n",
       "      <td>7.402284</td>\n",
       "    </tr>\n",
       "    <tr>\n",
       "      <th>3</th>\n",
       "      <td>4.0</td>\n",
       "      <td>1959-12-11</td>\n",
       "      <td>NYA</td>\n",
       "      <td>KC1</td>\n",
       "      <td>Don Larsen,Hank Bauer,Norm Siebern,Marv Throne...</td>\n",
       "      <td>Roger Maris,Joe DeMaestri,Kent Hadley</td>\n",
       "      <td>7.368413</td>\n",
       "    </tr>\n",
       "    <tr>\n",
       "      <th>4</th>\n",
       "      <td>5.0</td>\n",
       "      <td>1946-09-30</td>\n",
       "      <td>PIT</td>\n",
       "      <td>BSN</td>\n",
       "      <td>Bob Elliott,Hank Camelli</td>\n",
       "      <td>Billy Herman,Elmer Singleton,Stan Wentzel,Whit...</td>\n",
       "      <td>7.213203</td>\n",
       "    </tr>\n",
       "    <tr>\n",
       "      <th>5</th>\n",
       "      <td>6.0</td>\n",
       "      <td>1999-12-22</td>\n",
       "      <td>SDN</td>\n",
       "      <td>ATL</td>\n",
       "      <td>Wally Joyner,Reggie Sanders,Quilvio Veras</td>\n",
       "      <td>Bret Boone,Ryan Klesko,Jason Shiell</td>\n",
       "      <td>7.159809</td>\n",
       "    </tr>\n",
       "    <tr>\n",
       "      <th>6</th>\n",
       "      <td>7.0</td>\n",
       "      <td>1904-12-26</td>\n",
       "      <td>BOS</td>\n",
       "      <td>SLA</td>\n",
       "      <td>,George Stone</td>\n",
       "      <td>Jesse Burkett</td>\n",
       "      <td>7.089060</td>\n",
       "    </tr>\n",
       "    <tr>\n",
       "      <th>7</th>\n",
       "      <td>8.0</td>\n",
       "      <td>1928-10-29</td>\n",
       "      <td>NY1</td>\n",
       "      <td>PHI</td>\n",
       "      <td>,Lefty O'Doul</td>\n",
       "      <td>Freddy Leach</td>\n",
       "      <td>6.958705</td>\n",
       "    </tr>\n",
       "    <tr>\n",
       "      <th>8</th>\n",
       "      <td>9.0</td>\n",
       "      <td>1997-11-18</td>\n",
       "      <td>TBA</td>\n",
       "      <td>PHI</td>\n",
       "      <td>Bobby Abreu</td>\n",
       "      <td>Kevin Stocker</td>\n",
       "      <td>6.815524</td>\n",
       "    </tr>\n",
       "    <tr>\n",
       "      <th>9</th>\n",
       "      <td>10.0</td>\n",
       "      <td>1928-11-07</td>\n",
       "      <td>CHN</td>\n",
       "      <td>BSN</td>\n",
       "      <td>,Socks Seibold,Percy Jones,Lou Legett,Freddie ...</td>\n",
       "      <td>Rogers Hornsby</td>\n",
       "      <td>6.784525</td>\n",
       "    </tr>\n",
       "  </tbody>\n",
       "</table>\n",
       "</div>"
      ],
      "text/plain": [
       "   Rank       Date Team1 Team2  \\\n",
       "0   1.0 1949-12-14   NY1   BSN   \n",
       "1   2.0 1959-12-06   CLE   CHA   \n",
       "2   3.0 1963-01-14   BAL   CHA   \n",
       "3   4.0 1959-12-11   NYA   KC1   \n",
       "4   5.0 1946-09-30   PIT   BSN   \n",
       "5   6.0 1999-12-22   SDN   ATL   \n",
       "6   7.0 1904-12-26   BOS   SLA   \n",
       "7   8.0 1928-10-29   NY1   PHI   \n",
       "8   9.0 1997-11-18   TBA   PHI   \n",
       "9  10.0 1928-11-07   CHN   BSN   \n",
       "\n",
       "                                       Players Team1  \\\n",
       "0    Sid Gordon,Buddy Kerr,Willard Marshall,Red Webb   \n",
       "1  Minnie Minoso,Dick Brown,Don Ferrarese,Jake St...   \n",
       "2   Hoyt Wilhelm,Dave Nicholson,Pete Ward,Ron Hansen   \n",
       "3  Don Larsen,Hank Bauer,Norm Siebern,Marv Throne...   \n",
       "4                           Bob Elliott,Hank Camelli   \n",
       "5          Wally Joyner,Reggie Sanders,Quilvio Veras   \n",
       "6                                      ,George Stone   \n",
       "7                                      ,Lefty O'Doul   \n",
       "8                                        Bobby Abreu   \n",
       "9  ,Socks Seibold,Percy Jones,Lou Legett,Freddie ...   \n",
       "\n",
       "                                        Player Team2  Trade Value Diff  \n",
       "0                               Eddie Stanky,Al Dark          8.103336  \n",
       "1               John Romano,Bubba Phillips,Norm Cash          7.831614  \n",
       "2                             Luis Aparicio,Al Smith          7.402284  \n",
       "3              Roger Maris,Joe DeMaestri,Kent Hadley          7.368413  \n",
       "4  Billy Herman,Elmer Singleton,Stan Wentzel,Whit...          7.213203  \n",
       "5                Bret Boone,Ryan Klesko,Jason Shiell          7.159809  \n",
       "6                                      Jesse Burkett          7.089060  \n",
       "7                                       Freddy Leach          6.958705  \n",
       "8                                      Kevin Stocker          6.815524  \n",
       "9                                     Rogers Hornsby          6.784525  "
      ]
     },
     "execution_count": 20,
     "metadata": {},
     "output_type": "execute_result"
    }
   ],
   "source": [
    "rank_df.head(10)"
   ]
  },
  {
   "cell_type": "code",
   "execution_count": 21,
   "metadata": {
    "collapsed": false
   },
   "outputs": [],
   "source": [
    "rank_df.to_csv(\"Analysed_Ranks_2.csv\")"
   ]
  },
  {
   "cell_type": "code",
   "execution_count": 29,
   "metadata": {
    "collapsed": false
   },
   "outputs": [
    {
     "name": "stderr",
     "output_type": "stream",
     "text": [
      "/usr/local/lib/python3.4/dist-packages/ipykernel/__main__.py:2: FutureWarning: sort(columns=....) is deprecated, use sort_values(by=.....)\n",
      "  from ipykernel import kernelapp as app\n"
     ]
    }
   ],
   "source": [
    "curr_cpi = df_cpi[df_cpi['Year']==2016]['CPI'].iloc[0]\n",
    "df_sort = df_tran.sort(['transaction-ID'])\n",
    "no_of_trade = pd.DataFrame(columns = ['Year','PIT', 'SL5', 'CHN', 'WS8', 'IN3', 'PHI', 'NY1', 'LS3', 'SLN',\n",
    "       'BLN', 'BSN', 'BRO', 'WSN', 'CL4', 'CIN', 'CLE', 'BOS', 'DET',\n",
    "       'WS1', 'CHA', 'NYA', 'SLA', 'PHA', 'MLN', 'BAL', 'KC1', 'SFN',\n",
    "       'LAN', 'WS2', 'LAA', 'MIN', 'HOU', 'NYN', 'CAL', 'ATL', 'OAK',\n",
    "       'SDN', 'KCA', 'MON', 'SE1', 'MIL', 'TEX', 'TOR', 'SEA', 'FLO',\n",
    "       'COL', 'ANA', 'ARI', 'TBA', 'WAS', 'MIA'] )\n",
    "#no_of_trade = no_of_trade.set_index(['Year'])\n",
    "#no_of_trade=no_of_trade.fillna(0.0, inplace=True)\n",
    "td = df_sort['transaction-ID'].unique()\n",
    "year = df_sort['tranYear'].unique()\n",
    "no_of_trade['Year'] = year\n",
    "no_of_trade=no_of_trade.fillna(0)\n",
    "for x in range(0, len(td)):\n",
    "    tran_id = df_sort[df_sort['transaction-ID']==td[x]].iloc[0]\n",
    "    yr = no_of_trade[no_of_trade['Year'] == tran_id['tranYear']].iloc[0]\n",
    "    yr[tran_id['from-team']] = yr[tran_id['from-team']] + 1;\n",
    "    no_of_trade[tran_id['from-team']][no_of_trade['Year'] == tran_id['tranYear']] = yr[tran_id['from-team']]\n",
    "    yr[tran_id['to-team']] = yr[tran_id['to-team']] + 1;\n",
    "    no_of_trade[tran_id['to-team']][no_of_trade['Year'] == tran_id['tranYear']] = yr[tran_id['to-team']]\n",
    "    \n",
    "tdiffDict = {}\n",
    "for i in sList:\n",
    "    tdiffDict[i[0]] = i[2]"
   ]
  },
  {
   "cell_type": "code",
   "execution_count": 82,
   "metadata": {
    "collapsed": false
   },
   "outputs": [
    {
     "name": "stderr",
     "output_type": "stream",
     "text": [
      "/usr/local/lib/python3.4/dist-packages/ipykernel/__main__.py:2: FutureWarning: sort(columns=....) is deprecated, use sort_values(by=.....)\n",
      "  from ipykernel import kernelapp as app\n",
      "/usr/local/lib/python3.4/dist-packages/ipykernel/__main__.py:13: SettingWithCopyWarning: \n",
      "A value is trying to be set on a copy of a slice from a DataFrame\n",
      "\n",
      "See the caveats in the documentation: http://pandas.pydata.org/pandas-docs/stable/indexing.html#indexing-view-versus-copy\n",
      "/usr/local/lib/python3.4/dist-packages/ipykernel/__main__.py:14: SettingWithCopyWarning: \n",
      "A value is trying to be set on a copy of a slice from a DataFrame\n",
      "\n",
      "See the caveats in the documentation: http://pandas.pydata.org/pandas-docs/stable/indexing.html#indexing-view-versus-copy\n",
      "/usr/local/lib/python3.4/dist-packages/ipykernel/__main__.py:15: SettingWithCopyWarning: \n",
      "A value is trying to be set on a copy of a slice from a DataFrame\n",
      "\n",
      "See the caveats in the documentation: http://pandas.pydata.org/pandas-docs/stable/indexing.html#indexing-view-versus-copy\n"
     ]
    }
   ],
   "source": [
    "df_manager = pd.read_csv('../dataset/Managers.csv')\n",
    "df_manager= df_manager.sort( ['playerID','yearID'] )\n",
    "playerID= ''\n",
    "yearID= ''\n",
    "win = 0\n",
    "loss= 0\n",
    "Game= 0\n",
    "for i, row in df_manager.iterrows():\n",
    "    if playerID == row['playerID']:\n",
    "        loss = row['L'] + loss\n",
    "        win = row['W'] + win\n",
    "        Game = row['G'] + Game\n",
    "        df_manager['W'][i] = win;\n",
    "        df_manager['L'][i] = loss;\n",
    "        df_manager['G'][i] = Game;\n",
    "        \n",
    "    else:\n",
    "        playerID= row['playerID']\n",
    "        yearID= row['yearID']\n",
    "        win = row['W']\n",
    "        loss = row['L']\n",
    "        Game = row['G']"
   ]
  },
  {
   "cell_type": "code",
   "execution_count": 83,
   "metadata": {
    "collapsed": true
   },
   "outputs": [],
   "source": [
    "#Calculates various params for each trade\n",
    "def trade_value_old(tranID,metric):\n",
    "    td = df_tran[(df_tran['transaction-ID'] == tranID)]\n",
    "    teams = td['from-team'].unique()\n",
    "    val = 0\n",
    "    year = td['tranYear'].iloc[0]\n",
    "    player_vals = [] #To calculate player val diff\n",
    "    num_players = [] #To calculate diff of number of players involved\n",
    "    num_trades = [] #To calculate number of trades each side players were involved in before the trade\n",
    "    num_trades_team = [] #To calculate number of trades each team did in this year\n",
    "    ages = [] #Average ages of the two sides\n",
    "    ranks = []\n",
    "    salary_vals = []\n",
    "    allstar_vals = []\n",
    "    num_pitchers = []\n",
    "    num_batters = []\n",
    "    for x in teams:\n",
    "        #print x\n",
    "        val = 0 #for player_vals[]\n",
    "        num = 0 #for num_players[]\n",
    "        age = 0 #for ages[]\n",
    "        num_tr = 0 # for num_trades[]\n",
    "        sal = 0\n",
    "        num_p = 0\n",
    "        num_b = 0\n",
    "        t_ranks = df_teams[(df_teams['teamIDretro'] == x)]\n",
    "        t_rank = t_ranks[(t_ranks['yearID'] == year)]\n",
    "        if not t_rank.empty:\n",
    "            rank = t_rank['Rank'].iloc[0]\n",
    "        else:\n",
    "            rank = 7\n",
    "            \n",
    "        num_tr_team = no_of_trade[x][no_of_trade['Year']==year].iloc[0]\n",
    "        num_awards = 0\n",
    "        \n",
    "        for index, row in td.iterrows():\n",
    "            if (row['from-team'] == x):\n",
    "                if pd.isnull(row['player']):\n",
    "                    # filter out cash transactions or yet to be named player transaction \n",
    "                    continue\n",
    "                num += 1\n",
    "                #year = int(row['tranYear'])\n",
    "                player_df = df_batstat[(df_batstat['retroID'] == row['player'])]\n",
    "                player_df_year = player_df[(df_batstat['year_ID'] == row['tranYear'])]\n",
    "                \n",
    "                trades = df_tran[(df_tran['player'] == row['player'])]\n",
    "                trades_before = trades[(trades['tranYear'] < row['tranYear'])]\n",
    "                num_tr += len(trades_before)\n",
    "                \n",
    "                awards_before = df_allstars[df_allstars['yearID'] < row['tranYear']]\n",
    "                awards_player = awards_before[awards_before['retroID'] == row['player']]\n",
    "                num_awards += len(awards_player)\n",
    "                \n",
    "                if not player_df_year.empty:\n",
    "                    val += float(player_df_year[metric].iloc[0])\n",
    "                    age += player_df_year['age'].iloc[0]\n",
    "                    slp = player_df_year['salary'].iloc[0]\n",
    "                    if not math.isnan(slp):\n",
    "                        sal += slp\n",
    "                    if(player_df['pitcher'].iloc[0] == 'Y'):\n",
    "                        num_p += 1\n",
    "                    else:\n",
    "                        num_b += 1\n",
    "                elif not player_df.empty:\n",
    "                    # take a random value if we don't have war for that transaction year\n",
    "                    val += float(player_df[metric].iloc[0])\n",
    "                    age += player_df['age'].iloc[0]\n",
    "                    slp = float(player_df['salary'].iloc[0])\n",
    "                    if not math.isnan(slp):\n",
    "                        sal += slp\n",
    "                    if(player_df['pitcher'].iloc[0] == 'Y'):\n",
    "                        num_p += 1\n",
    "                    else:\n",
    "                        num_b += 1\n",
    "                else:\n",
    "                    ## figure out a way to find war for these players\n",
    "                    val += 0\n",
    "        num_players.append(num)\n",
    "        num_trades.append(num_tr)\n",
    "        num_trades_team.append(num_tr_team)\n",
    "        player_vals.append(val)\n",
    "        ranks.append(rank)\n",
    "        salary_vals.append(sal)\n",
    "        allstar_vals.append(num_awards)\n",
    "        num_pitchers.append(num_p)\n",
    "        num_batters.append(num_b)\n",
    "        if(num==0):\n",
    "            num = 1\n",
    "        ages.append(float(age/num))\n",
    "        v_diff = tdiffDict[tranID]\n",
    "    sal_diff = abs(salary_vals[0]-salary_vals[1])\n",
    "    new_val = sal_diff\n",
    "    old_cpi_df = df_cpi[df_cpi['Year']== year]['CPI']\n",
    "    old_cpi = old_cpi_df.iloc[0]\n",
    "    try:\n",
    "        new_sal_diff = int(float((curr_cpi/old_cpi))*float(sal_diff))\n",
    "    except ValueError as e:\n",
    "        new_sal_diff = sal_diff\n",
    "    #return (abs(player_vals[0]-player_vals[1]),tranID,abs(num_players[0]-num_players[1]),year,abs(ages[0]-ages[1]),v_diff)\n",
    "    resultDict = {}\n",
    "    resultDict['TranID'] = tranID\n",
    "    resultDict['Year'] = year\n",
    "    resultDict['Team_1'] = teams[0]\n",
    "    resultDict['Team_2'] = teams[1]\n",
    "    resultDict['Trade_Value_Diff'] = v_diff\n",
    "    resultDict['WAR_Sum_1'] =  player_vals[0]\n",
    "    resultDict['WAR_Sum_2'] = player_vals[1]\n",
    "    resultDict['Num_Players_1'] = num_players[0]\n",
    "    resultDict['Num_Players_2'] = num_players[1]\n",
    "    resultDict['Ages_1'] = ages[0]\n",
    "    resultDict['Ages_2'] = ages[1]\n",
    "    resultDict['Num_Player_Trades_1'] = num_trades[0]\n",
    "    resultDict['Num_Player_Trades_2'] = num_trades[1]\n",
    "    resultDict['Rank_1'] = ranks[0]\n",
    "    resultDict['Rank_2'] = ranks[1]\n",
    "    resultDict['Num_Trades_Team_1'] = num_trades_team[0]\n",
    "    resultDict['Num_Trades_Team_2'] = num_trades_team[1]\n",
    "    resultDict['Salary_Diff'] = new_sal_diff\n",
    "    resultDict['allstar_1'] = allstar_vals[0]\n",
    "    resultDict['allstar_2'] = allstar_vals[1]\n",
    "    resultDict['Num_Pitchers_1'] = num_pitchers[0]\n",
    "    resultDict['Num_Pitchers_2'] = num_pitchers[1]\n",
    "    resultDict['Num_Batters_1'] = num_batters[0]\n",
    "    resultDict['Num_Batters_2'] = num_batters[1]\n",
    "    mgr_table1 = df_manager[df_manager['yearID'] == year]\n",
    "    mgr_table = mgr_table1[mgr_table1['teamID'] == teams[0]]\n",
    "    if mgr_table.empty:\n",
    "        resultDict['Manager1_Score'] =  0.5\n",
    "    else:\n",
    "        resultDict['Manager1_Score'] =  (float)(mgr_table['W'].iloc[0]/(float)(mgr_table['G'].iloc[0]))\n",
    "    mgr_table = mgr_table1[mgr_table1['teamID'] == teams[1]]\n",
    "    if mgr_table.empty:\n",
    "        resultDict['Manager2_Score'] =   0.5\n",
    "    else:\n",
    "        resultDict['Manager2_Score'] =  (float)(mgr_table['W'].iloc[0]/(float)(mgr_table['G'].iloc[0]))\n",
    "    return resultDict"
   ]
  },
  {
   "cell_type": "code",
   "execution_count": 84,
   "metadata": {
    "collapsed": false
   },
   "outputs": [
    {
     "name": "stderr",
     "output_type": "stream",
     "text": [
      "/usr/local/lib/python3.4/dist-packages/ipykernel/__main__.py:44: UserWarning: Boolean Series key will be reindexed to match DataFrame index.\n"
     ]
    }
   ],
   "source": [
    "trade_val_list_WAR_old = []\n",
    "transactions = df_tran['transaction-ID'].unique()\n",
    "for x in transactions:\n",
    "    trade_val_list_WAR_old.append(trade_value_old(x,'WAR'))"
   ]
  },
  {
   "cell_type": "code",
   "execution_count": 85,
   "metadata": {
    "collapsed": true
   },
   "outputs": [],
   "source": [
    "df_features = pd.DataFrame(trade_val_list_WAR_old, columns=[\"TranID\",\"Year\",\"Team_1\",\"Team_2\",\"Trade_Value_Diff\",\"WAR_Sum_1\",\n",
    "                                                            \"WAR_Sum_2\",\"Num_Players_1\",\"Num_Players_2\",\"Ages_1\",\"Ages_2\",\n",
    "                                                            \"Num_Player_Trades_1\",\"Num_Player_Trades_2\",\"Rank_1\",\"Rank_2\",\"Num_Trades_Team_1\",\n",
    "                                                            \"Num_Trades_Team_2\",\"Salary_Diff\",\"allstar_1\",\"allstar_2\",\"Num_Pitchers_1\",\n",
    "                                                            \"Num_Pitchers_2\",\"Num_Batters_1\",\"Num_Batters_2\",\"Manager1_Score\",\"Manager2_Score\"])"
   ]
  },
  {
   "cell_type": "code",
   "execution_count": 89,
   "metadata": {
    "collapsed": false
   },
   "outputs": [],
   "source": [
    "#To add average val of trades carried out earlier by each team\n",
    "avg_lop = 0\n",
    "for index,row in df_features.iterrows():\n",
    "    trades = df_features[(df_features['Team_1'] == row['Team_1'])]\n",
    "    trades_before = trades[(trades['Year'] < row['Year'])]\n",
    "    if len(trades_before) == 0:\n",
    "        avg_lop = 0\n",
    "    else:\n",
    "        avg_lop = sum(trades_before['Trade_Value_Diff'])/len(trades_before)\n",
    "    df_features.set_value(index,'Avg_Lops_1',avg_lop)\n",
    "    \n",
    "    trades = df_features[(df_features['Team_2'] == row['Team_2'])]\n",
    "    trades_before = trades[(trades['Year'] < row['Year'])]\n",
    "    if len(trades_before) == 0:\n",
    "        avg_lop = 0\n",
    "    else:\n",
    "        avg_lop = sum(trades_before['Trade_Value_Diff'])/len(trades_before)\n",
    "    df_features.set_value(index,'Avg_Lops_2',avg_lop)"
   ]
  },
  {
   "cell_type": "code",
   "execution_count": 90,
   "metadata": {
    "collapsed": true
   },
   "outputs": [],
   "source": [
    "import pickle\n",
    "with open('features.pkl', 'wb') as f:\n",
    "    pickle.dump(df_features,f)"
   ]
  },
  {
   "cell_type": "code",
   "execution_count": null,
   "metadata": {
    "collapsed": true
   },
   "outputs": [],
   "source": [
    "import pickle\n",
    "with open('features.pkl', 'rb') as f:\n",
    "    df_features = pickle.load(f)"
   ]
  },
  {
   "cell_type": "code",
   "execution_count": 91,
   "metadata": {
    "collapsed": false
   },
   "outputs": [
    {
     "data": {
      "text/html": [
       "<div>\n",
       "<table border=\"1\" class=\"dataframe\">\n",
       "  <thead>\n",
       "    <tr style=\"text-align: right;\">\n",
       "      <th></th>\n",
       "      <th>TranID</th>\n",
       "      <th>Year</th>\n",
       "      <th>Team_1</th>\n",
       "      <th>Team_2</th>\n",
       "      <th>Trade_Value_Diff</th>\n",
       "      <th>WAR_Sum_1</th>\n",
       "      <th>WAR_Sum_2</th>\n",
       "      <th>Num_Players_1</th>\n",
       "      <th>Num_Players_2</th>\n",
       "      <th>Ages_1</th>\n",
       "      <th>Ages_2</th>\n",
       "      <th>Num_Player_Trades_1</th>\n",
       "      <th>Num_Player_Trades_2</th>\n",
       "      <th>Rank_1</th>\n",
       "      <th>Rank_2</th>\n",
       "      <th>Num_Trades_Team_1</th>\n",
       "      <th>Num_Trades_Team_2</th>\n",
       "      <th>Salary_Diff</th>\n",
       "      <th>allstar_1</th>\n",
       "      <th>allstar_2</th>\n",
       "      <th>Num_Pitchers_1</th>\n",
       "      <th>Num_Pitchers_2</th>\n",
       "      <th>Num_Batters_1</th>\n",
       "      <th>Num_Batters_2</th>\n",
       "      <th>Manager1_Score</th>\n",
       "      <th>Manager2_Score</th>\n",
       "      <th>Avg_Lops_1</th>\n",
       "      <th>Avg_Lops_2</th>\n",
       "    </tr>\n",
       "  </thead>\n",
       "  <tbody>\n",
       "    <tr>\n",
       "      <th>0</th>\n",
       "      <td>72232</td>\n",
       "      <td>1968</td>\n",
       "      <td>DET</td>\n",
       "      <td>HOU</td>\n",
       "      <td>-0.099839</td>\n",
       "      <td>-0.29</td>\n",
       "      <td>0.88</td>\n",
       "      <td>2</td>\n",
       "      <td>1</td>\n",
       "      <td>27.5</td>\n",
       "      <td>35.0</td>\n",
       "      <td>0</td>\n",
       "      <td>1</td>\n",
       "      <td>1</td>\n",
       "      <td>10</td>\n",
       "      <td>4</td>\n",
       "      <td>10</td>\n",
       "      <td>123967</td>\n",
       "      <td>0</td>\n",
       "      <td>12</td>\n",
       "      <td>2</td>\n",
       "      <td>0</td>\n",
       "      <td>0</td>\n",
       "      <td>1</td>\n",
       "      <td>0.516230</td>\n",
       "      <td>0.424870</td>\n",
       "      <td>-0.163770</td>\n",
       "      <td>-0.222014</td>\n",
       "    </tr>\n",
       "    <tr>\n",
       "      <th>1</th>\n",
       "      <td>72241</td>\n",
       "      <td>1964</td>\n",
       "      <td>CHN</td>\n",
       "      <td>PHI</td>\n",
       "      <td>0.000000</td>\n",
       "      <td>0.00</td>\n",
       "      <td>0.00</td>\n",
       "      <td>1</td>\n",
       "      <td>1</td>\n",
       "      <td>23.0</td>\n",
       "      <td>0.0</td>\n",
       "      <td>0</td>\n",
       "      <td>0</td>\n",
       "      <td>8</td>\n",
       "      <td>2</td>\n",
       "      <td>7</td>\n",
       "      <td>7</td>\n",
       "      <td>0</td>\n",
       "      <td>0</td>\n",
       "      <td>0</td>\n",
       "      <td>1</td>\n",
       "      <td>0</td>\n",
       "      <td>0</td>\n",
       "      <td>0</td>\n",
       "      <td>0.487654</td>\n",
       "      <td>0.460859</td>\n",
       "      <td>-0.134352</td>\n",
       "      <td>-0.279177</td>\n",
       "    </tr>\n",
       "    <tr>\n",
       "      <th>2</th>\n",
       "      <td>48198</td>\n",
       "      <td>1886</td>\n",
       "      <td>PIT</td>\n",
       "      <td>SL5</td>\n",
       "      <td>0.823534</td>\n",
       "      <td>1.74</td>\n",
       "      <td>3.41</td>\n",
       "      <td>1</td>\n",
       "      <td>1</td>\n",
       "      <td>21.0</td>\n",
       "      <td>29.0</td>\n",
       "      <td>0</td>\n",
       "      <td>0</td>\n",
       "      <td>7</td>\n",
       "      <td>6</td>\n",
       "      <td>1</td>\n",
       "      <td>1</td>\n",
       "      <td>0</td>\n",
       "      <td>0</td>\n",
       "      <td>0</td>\n",
       "      <td>0</td>\n",
       "      <td>0</td>\n",
       "      <td>1</td>\n",
       "      <td>1</td>\n",
       "      <td>0.500000</td>\n",
       "      <td>0.474576</td>\n",
       "      <td>0.000000</td>\n",
       "      <td>0.000000</td>\n",
       "    </tr>\n",
       "    <tr>\n",
       "      <th>3</th>\n",
       "      <td>48204</td>\n",
       "      <td>1887</td>\n",
       "      <td>PIT</td>\n",
       "      <td>CHN</td>\n",
       "      <td>2.033898</td>\n",
       "      <td>-0.84</td>\n",
       "      <td>0.21</td>\n",
       "      <td>1</td>\n",
       "      <td>1</td>\n",
       "      <td>21.0</td>\n",
       "      <td>30.0</td>\n",
       "      <td>0</td>\n",
       "      <td>0</td>\n",
       "      <td>6</td>\n",
       "      <td>3</td>\n",
       "      <td>1</td>\n",
       "      <td>1</td>\n",
       "      <td>29321</td>\n",
       "      <td>0</td>\n",
       "      <td>0</td>\n",
       "      <td>0</td>\n",
       "      <td>1</td>\n",
       "      <td>1</td>\n",
       "      <td>0</td>\n",
       "      <td>0.439640</td>\n",
       "      <td>0.655592</td>\n",
       "      <td>0.823534</td>\n",
       "      <td>0.000000</td>\n",
       "    </tr>\n",
       "    <tr>\n",
       "      <th>4</th>\n",
       "      <td>48205</td>\n",
       "      <td>1887</td>\n",
       "      <td>IN3</td>\n",
       "      <td>WS8</td>\n",
       "      <td>-0.606414</td>\n",
       "      <td>-0.13</td>\n",
       "      <td>2.70</td>\n",
       "      <td>1</td>\n",
       "      <td>1</td>\n",
       "      <td>28.0</td>\n",
       "      <td>32.0</td>\n",
       "      <td>0</td>\n",
       "      <td>0</td>\n",
       "      <td>8</td>\n",
       "      <td>7</td>\n",
       "      <td>1</td>\n",
       "      <td>1</td>\n",
       "      <td>0</td>\n",
       "      <td>0</td>\n",
       "      <td>0</td>\n",
       "      <td>1</td>\n",
       "      <td>0</td>\n",
       "      <td>0</td>\n",
       "      <td>1</td>\n",
       "      <td>0.214286</td>\n",
       "      <td>0.360947</td>\n",
       "      <td>0.000000</td>\n",
       "      <td>0.000000</td>\n",
       "    </tr>\n",
       "  </tbody>\n",
       "</table>\n",
       "</div>"
      ],
      "text/plain": [
       "   TranID  Year Team_1 Team_2  Trade_Value_Diff  WAR_Sum_1  WAR_Sum_2  \\\n",
       "0   72232  1968    DET    HOU         -0.099839      -0.29       0.88   \n",
       "1   72241  1964    CHN    PHI          0.000000       0.00       0.00   \n",
       "2   48198  1886    PIT    SL5          0.823534       1.74       3.41   \n",
       "3   48204  1887    PIT    CHN          2.033898      -0.84       0.21   \n",
       "4   48205  1887    IN3    WS8         -0.606414      -0.13       2.70   \n",
       "\n",
       "   Num_Players_1  Num_Players_2  Ages_1  Ages_2  Num_Player_Trades_1  \\\n",
       "0              2              1    27.5    35.0                    0   \n",
       "1              1              1    23.0     0.0                    0   \n",
       "2              1              1    21.0    29.0                    0   \n",
       "3              1              1    21.0    30.0                    0   \n",
       "4              1              1    28.0    32.0                    0   \n",
       "\n",
       "   Num_Player_Trades_2  Rank_1  Rank_2  Num_Trades_Team_1  Num_Trades_Team_2  \\\n",
       "0                    1       1      10                  4                 10   \n",
       "1                    0       8       2                  7                  7   \n",
       "2                    0       7       6                  1                  1   \n",
       "3                    0       6       3                  1                  1   \n",
       "4                    0       8       7                  1                  1   \n",
       "\n",
       "   Salary_Diff  allstar_1  allstar_2  Num_Pitchers_1  Num_Pitchers_2  \\\n",
       "0       123967          0         12               2               0   \n",
       "1            0          0          0               1               0   \n",
       "2            0          0          0               0               0   \n",
       "3        29321          0          0               0               1   \n",
       "4            0          0          0               1               0   \n",
       "\n",
       "   Num_Batters_1  Num_Batters_2  Manager1_Score  Manager2_Score  Avg_Lops_1  \\\n",
       "0              0              1        0.516230        0.424870   -0.163770   \n",
       "1              0              0        0.487654        0.460859   -0.134352   \n",
       "2              1              1        0.500000        0.474576    0.000000   \n",
       "3              1              0        0.439640        0.655592    0.823534   \n",
       "4              0              1        0.214286        0.360947    0.000000   \n",
       "\n",
       "   Avg_Lops_2  \n",
       "0   -0.222014  \n",
       "1   -0.279177  \n",
       "2    0.000000  \n",
       "3    0.000000  \n",
       "4    0.000000  "
      ]
     },
     "execution_count": 91,
     "metadata": {},
     "output_type": "execute_result"
    }
   ],
   "source": [
    "df_features.head()"
   ]
  },
  {
   "cell_type": "code",
   "execution_count": 93,
   "metadata": {
    "collapsed": true
   },
   "outputs": [],
   "source": [
    "df_features['Num_Player_Diff'] = df_features['Num_Players_1'] - df_features['Num_Players_2']\n",
    "df_features['Age_Diff'] = df_features['Ages_1'] - df_features['Ages_2']\n",
    "df_features['WAR_Diff'] = df_features['WAR_Sum_1'] - df_features['WAR_Sum_2']\n"
   ]
  },
  {
   "cell_type": "code",
   "execution_count": 94,
   "metadata": {
    "collapsed": true
   },
   "outputs": [],
   "source": [
    "df_features['AllStar_Diff'] = df_features['allstar_1'] - df_features['allstar_2']"
   ]
  },
  {
   "cell_type": "code",
   "execution_count": 95,
   "metadata": {
    "collapsed": true
   },
   "outputs": [],
   "source": [
    "df_features['Abs_Trade_Value_Diff'] = abs(df_features['Trade_Value_Diff'])"
   ]
  },
  {
   "cell_type": "code",
   "execution_count": 96,
   "metadata": {
    "collapsed": true
   },
   "outputs": [],
   "source": [
    "df_features['Pitcher_Diff'] = abs(df_features['Num_Pitchers_1'] - df_features['Num_Pitchers_2'])\n",
    "df_features['Batters_Diff'] = abs(df_features['Num_Batters_1'] - df_features['Num_Batters_2'])"
   ]
  },
  {
   "cell_type": "code",
   "execution_count": 66,
   "metadata": {
    "collapsed": false
   },
   "outputs": [
    {
     "data": {
      "text/html": [
       "<div>\n",
       "<table border=\"1\" class=\"dataframe\">\n",
       "  <thead>\n",
       "    <tr style=\"text-align: right;\">\n",
       "      <th></th>\n",
       "      <th>TranID</th>\n",
       "      <th>Year</th>\n",
       "      <th>Team_1</th>\n",
       "      <th>Team_2</th>\n",
       "      <th>Trade_Value_Diff</th>\n",
       "      <th>WAR_Sum_1</th>\n",
       "      <th>WAR_Sum_2</th>\n",
       "      <th>Num_Players_1</th>\n",
       "      <th>Num_Players_2</th>\n",
       "      <th>Ages_1</th>\n",
       "      <th>Ages_2</th>\n",
       "      <th>Num_Player_Trades_1</th>\n",
       "      <th>Num_Player_Trades_2</th>\n",
       "      <th>Rank_1</th>\n",
       "      <th>Rank_2</th>\n",
       "      <th>Num_Trades_Team_1</th>\n",
       "      <th>Num_Trades_Team_2</th>\n",
       "      <th>Salary_Diff</th>\n",
       "      <th>allstar_1</th>\n",
       "      <th>allstar_2</th>\n",
       "      <th>Num_Pitchers_1</th>\n",
       "      <th>Num_Pitchers_2</th>\n",
       "      <th>Num_Batters_1</th>\n",
       "      <th>Num_Batters_2</th>\n",
       "      <th>Num_Player_Diff</th>\n",
       "      <th>Age_Diff</th>\n",
       "      <th>WAR_Diff</th>\n",
       "      <th>AllStar_Diff</th>\n",
       "      <th>Abs_Trade_Value_Diff</th>\n",
       "    </tr>\n",
       "  </thead>\n",
       "  <tbody>\n",
       "    <tr>\n",
       "      <th>0</th>\n",
       "      <td>72232</td>\n",
       "      <td>1968</td>\n",
       "      <td>DET</td>\n",
       "      <td>HOU</td>\n",
       "      <td>0.099839</td>\n",
       "      <td>-0.29</td>\n",
       "      <td>0.88</td>\n",
       "      <td>2</td>\n",
       "      <td>1</td>\n",
       "      <td>27.5</td>\n",
       "      <td>35.0</td>\n",
       "      <td>0</td>\n",
       "      <td>1</td>\n",
       "      <td>1</td>\n",
       "      <td>10</td>\n",
       "      <td>4</td>\n",
       "      <td>10</td>\n",
       "      <td>123967</td>\n",
       "      <td>0</td>\n",
       "      <td>12</td>\n",
       "      <td>2</td>\n",
       "      <td>0</td>\n",
       "      <td>0</td>\n",
       "      <td>1</td>\n",
       "      <td>1</td>\n",
       "      <td>7.5</td>\n",
       "      <td>1.17</td>\n",
       "      <td>12</td>\n",
       "      <td>0.099839</td>\n",
       "    </tr>\n",
       "    <tr>\n",
       "      <th>1</th>\n",
       "      <td>72241</td>\n",
       "      <td>1964</td>\n",
       "      <td>CHN</td>\n",
       "      <td>PHI</td>\n",
       "      <td>0.000000</td>\n",
       "      <td>0.00</td>\n",
       "      <td>0.00</td>\n",
       "      <td>1</td>\n",
       "      <td>1</td>\n",
       "      <td>23.0</td>\n",
       "      <td>0.0</td>\n",
       "      <td>0</td>\n",
       "      <td>0</td>\n",
       "      <td>8</td>\n",
       "      <td>2</td>\n",
       "      <td>7</td>\n",
       "      <td>7</td>\n",
       "      <td>0</td>\n",
       "      <td>0</td>\n",
       "      <td>0</td>\n",
       "      <td>1</td>\n",
       "      <td>0</td>\n",
       "      <td>0</td>\n",
       "      <td>0</td>\n",
       "      <td>0</td>\n",
       "      <td>23.0</td>\n",
       "      <td>0.00</td>\n",
       "      <td>0</td>\n",
       "      <td>0.000000</td>\n",
       "    </tr>\n",
       "    <tr>\n",
       "      <th>2</th>\n",
       "      <td>48198</td>\n",
       "      <td>1886</td>\n",
       "      <td>PIT</td>\n",
       "      <td>SL5</td>\n",
       "      <td>0.824049</td>\n",
       "      <td>1.74</td>\n",
       "      <td>3.41</td>\n",
       "      <td>1</td>\n",
       "      <td>1</td>\n",
       "      <td>21.0</td>\n",
       "      <td>29.0</td>\n",
       "      <td>0</td>\n",
       "      <td>0</td>\n",
       "      <td>7</td>\n",
       "      <td>6</td>\n",
       "      <td>1</td>\n",
       "      <td>1</td>\n",
       "      <td>0</td>\n",
       "      <td>0</td>\n",
       "      <td>0</td>\n",
       "      <td>0</td>\n",
       "      <td>0</td>\n",
       "      <td>1</td>\n",
       "      <td>1</td>\n",
       "      <td>0</td>\n",
       "      <td>8.0</td>\n",
       "      <td>1.67</td>\n",
       "      <td>0</td>\n",
       "      <td>0.824049</td>\n",
       "    </tr>\n",
       "    <tr>\n",
       "      <th>3</th>\n",
       "      <td>48204</td>\n",
       "      <td>1887</td>\n",
       "      <td>PIT</td>\n",
       "      <td>CHN</td>\n",
       "      <td>2.052556</td>\n",
       "      <td>-0.84</td>\n",
       "      <td>0.21</td>\n",
       "      <td>1</td>\n",
       "      <td>1</td>\n",
       "      <td>21.0</td>\n",
       "      <td>30.0</td>\n",
       "      <td>0</td>\n",
       "      <td>0</td>\n",
       "      <td>6</td>\n",
       "      <td>3</td>\n",
       "      <td>1</td>\n",
       "      <td>1</td>\n",
       "      <td>29321</td>\n",
       "      <td>0</td>\n",
       "      <td>0</td>\n",
       "      <td>0</td>\n",
       "      <td>1</td>\n",
       "      <td>1</td>\n",
       "      <td>0</td>\n",
       "      <td>0</td>\n",
       "      <td>9.0</td>\n",
       "      <td>1.05</td>\n",
       "      <td>0</td>\n",
       "      <td>2.052556</td>\n",
       "    </tr>\n",
       "    <tr>\n",
       "      <th>4</th>\n",
       "      <td>48205</td>\n",
       "      <td>1887</td>\n",
       "      <td>IN3</td>\n",
       "      <td>WS8</td>\n",
       "      <td>0.599223</td>\n",
       "      <td>-0.13</td>\n",
       "      <td>2.70</td>\n",
       "      <td>1</td>\n",
       "      <td>1</td>\n",
       "      <td>28.0</td>\n",
       "      <td>32.0</td>\n",
       "      <td>0</td>\n",
       "      <td>0</td>\n",
       "      <td>8</td>\n",
       "      <td>7</td>\n",
       "      <td>1</td>\n",
       "      <td>1</td>\n",
       "      <td>0</td>\n",
       "      <td>0</td>\n",
       "      <td>0</td>\n",
       "      <td>1</td>\n",
       "      <td>0</td>\n",
       "      <td>0</td>\n",
       "      <td>1</td>\n",
       "      <td>0</td>\n",
       "      <td>4.0</td>\n",
       "      <td>2.83</td>\n",
       "      <td>0</td>\n",
       "      <td>0.599223</td>\n",
       "    </tr>\n",
       "  </tbody>\n",
       "</table>\n",
       "</div>"
      ],
      "text/plain": [
       "   TranID  Year Team_1 Team_2  Trade_Value_Diff  WAR_Sum_1  WAR_Sum_2  \\\n",
       "0   72232  1968    DET    HOU          0.099839      -0.29       0.88   \n",
       "1   72241  1964    CHN    PHI          0.000000       0.00       0.00   \n",
       "2   48198  1886    PIT    SL5          0.824049       1.74       3.41   \n",
       "3   48204  1887    PIT    CHN          2.052556      -0.84       0.21   \n",
       "4   48205  1887    IN3    WS8          0.599223      -0.13       2.70   \n",
       "\n",
       "   Num_Players_1  Num_Players_2  Ages_1  Ages_2  Num_Player_Trades_1  \\\n",
       "0              2              1    27.5    35.0                    0   \n",
       "1              1              1    23.0     0.0                    0   \n",
       "2              1              1    21.0    29.0                    0   \n",
       "3              1              1    21.0    30.0                    0   \n",
       "4              1              1    28.0    32.0                    0   \n",
       "\n",
       "   Num_Player_Trades_2  Rank_1  Rank_2  Num_Trades_Team_1  Num_Trades_Team_2  \\\n",
       "0                    1       1      10                  4                 10   \n",
       "1                    0       8       2                  7                  7   \n",
       "2                    0       7       6                  1                  1   \n",
       "3                    0       6       3                  1                  1   \n",
       "4                    0       8       7                  1                  1   \n",
       "\n",
       "   Salary_Diff  allstar_1  allstar_2  Num_Pitchers_1  Num_Pitchers_2  \\\n",
       "0       123967          0         12               2               0   \n",
       "1            0          0          0               1               0   \n",
       "2            0          0          0               0               0   \n",
       "3        29321          0          0               0               1   \n",
       "4            0          0          0               1               0   \n",
       "\n",
       "   Num_Batters_1  Num_Batters_2  Num_Player_Diff  Age_Diff  WAR_Diff  \\\n",
       "0              0              1                1       7.5      1.17   \n",
       "1              0              0                0      23.0      0.00   \n",
       "2              1              1                0       8.0      1.67   \n",
       "3              1              0                0       9.0      1.05   \n",
       "4              0              1                0       4.0      2.83   \n",
       "\n",
       "   AllStar_Diff  Abs_Trade_Value_Diff  \n",
       "0            12              0.099839  \n",
       "1             0              0.000000  \n",
       "2             0              0.824049  \n",
       "3             0              2.052556  \n",
       "4             0              0.599223  "
      ]
     },
     "execution_count": 66,
     "metadata": {},
     "output_type": "execute_result"
    }
   ],
   "source": [
    "df_features.head()"
   ]
  },
  {
   "cell_type": "code",
   "execution_count": 33,
   "metadata": {
    "collapsed": false
   },
   "outputs": [
    {
     "data": {
      "text/plain": [
       "<matplotlib.axes._subplots.AxesSubplot at 0x7f80229e4940>"
      ]
     },
     "execution_count": 33,
     "metadata": {},
     "output_type": "execute_result"
    },
    {
     "data": {
      "image/png": "[encoded data removed]",
      "text/plain": [
       "<matplotlib.figure.Figure at 0x7f80189b2710>"
      ]
     },
     "metadata": {},
     "output_type": "display_data"
    }
   ],
   "source": [
    "ser = df_features['Abs_Trade_Value_Diff']\n",
    "ser.plot.kde()"
   ]
  },
  {
   "cell_type": "code",
   "execution_count": 71,
   "metadata": {
    "collapsed": false
   },
   "outputs": [
    {
     "data": {
      "text/plain": [
       "<matplotlib.axes._subplots.AxesSubplot at 0x7f8021258c50>"
      ]
     },
     "execution_count": 71,
     "metadata": {},
     "output_type": "execute_result"
    },
    {
     "data": {
      "image/png": "[encoded data removed]",
      "text/plain": [
       "<matplotlib.figure.Figure at 0x7f8021392668>"
      ]
     },
     "metadata": {},
     "output_type": "display_data"
    }
   ],
   "source": [
    "cols = df_features.columns\n",
    "correlations = df_features[cols].corr(method='pearson')\n",
    "\n",
    "# Generate a mask for the upper triangle\n",
    "mask = np.zeros_like(correlations, dtype=np.bool)\n",
    "mask[np.triu_indices_from(mask)] = True\n",
    "\n",
    "# Set up the matplotlib figure\n",
    "f, ax = plt.subplots(figsize=(20, 10))\n",
    "\n",
    "# Generate a custom diverging colormap\n",
    "cmap = sns.diverging_palette(220, 5, as_cmap=True)\n",
    "\n",
    "# Draw the heatmap with the mask and correct aspect ratio\n",
    "sns.heatmap(correlations, mask =mask, cmap=cmap, vmax=.3,\n",
    "            square=True, xticklabels=correlations.columns, yticklabels=correlations.columns,\n",
    "            linewidths=.5, cbar_kws={\"shrink\": .5}, ax=ax)"
   ]
  },
  {
   "cell_type": "code",
   "execution_count": 34,
   "metadata": {
    "collapsed": false
   },
   "outputs": [],
   "source": [
    "df_features = df_features.sample(frac=1)"
   ]
  },
  {
   "cell_type": "code",
   "execution_count": 98,
   "metadata": {
    "collapsed": false
   },
   "outputs": [],
   "source": [
    "inputV = df_features[[\"Pitcher_Diff\",\"Batters_Diff\",'Salary_Diff',\n",
    "       'Num_Player_Diff', 'Age_Diff', 'WAR_Diff','AllStar_Diff','Manager1_Score','Manager2_Score']]"
   ]
  },
  {
   "cell_type": "code",
   "execution_count": 99,
   "metadata": {
    "collapsed": false
   },
   "outputs": [],
   "source": [
    "clfList = [LinearRegression(),linear_model.Ridge(alpha = 0.5),Lasso(),DecisionTreeRegressor(max_depth=7),RandomForestRegressor(max_depth=10),neighbors.KNeighborsRegressor(n_neighbors=100)]"
   ]
  },
  {
   "cell_type": "code",
   "execution_count": 100,
   "metadata": {
    "collapsed": true
   },
   "outputs": [],
   "source": [
    "allRowsList = []\n",
    "for idx,row in inputV.iterrows():\n",
    "    currentRowList = row.values.tolist()\n",
    "    allRowsList.append(currentRowList)"
   ]
  },
  {
   "cell_type": "code",
   "execution_count": 101,
   "metadata": {
    "collapsed": false
   },
   "outputs": [],
   "source": [
    "def calculate_error(actualValue, predictedValue):\n",
    "    plt.xticks(range(-7,7,1))\n",
    "    diff = (actualValue - predictedValue)\n",
    "    ax = sns.distplot(diff, bins=50, label='Error in trade value diff')\n",
    "    meanError = np.mean(diff)\n",
    "    #print \"Mean Error is\", meanError\n",
    "    stdError = np.std(diff)\n",
    "    line1_string = 'Mean'\n",
    "    line2_string = 'Std Dev'\n",
    "    #ax.set_ylim((0,1))\n",
    "    ax.set_xlim((-7,7))   \n",
    "    ax.set_title('Probablity Distribution of Error')\n",
    "    ax1 = ax.plot([meanError,meanError],[0,0.5])\n",
    "    pos1 = [0,0.45]\n",
    "    pos2 = [1,0.4]\n",
    "    pos3 = [-1,0.4]\n",
    "    ax.text(pos1[0], pos1[1], line1_string, size=9, color = 'b', ha=\"center\", va=\"center\")\n",
    "    ax2 = ax.plot([stdError,stdError],[0,0.5], color='r')\n",
    "    ax.text(pos2[0], pos2[1], line2_string, size=9, color = 'b', ha=\"center\", va=\"center\")\n",
    "    ax3 = ax.plot([-stdError,-stdError],[0,0.5], color='r')\n",
    "    ax.text(pos3[0], pos3[1], line2_string, size=9, color = 'b', ha=\"center\", va=\"center\")\n",
    "    ax.set_xlabel('Error in trade value diff')\n",
    "    ax.set_ylabel('Probability')\n",
    "    plt.show()\n",
    "    rms = sqrt(mean_squared_error(actualValue, predictedValue))\n",
    "    print('Root mean square error:', rms)\n",
    "    \n",
    "    r2score = r2_score(actualValue, predictedValue)\n",
    "    print('r2 score:', r2score)\n",
    "    \n",
    "    evs = explained_variance_score(actualValue, predictedValue)\n",
    "    print('Explained variance score',evs)\n",
    "    \n",
    "    mae = mean_absolute_error(actualValue,predictedValue)\n",
    "    print('Mean absolute error:',mae)"
   ]
  },
  {
   "cell_type": "code",
   "execution_count": 102,
   "metadata": {
    "collapsed": false
   },
   "outputs": [
    {
     "name": "stdout",
     "output_type": "stream",
     "text": [
      "\n",
      " LinearRegression(copy_X=True, fit_intercept=True, n_jobs=1, normalize=False)\n"
     ]
    },
    {
     "data": {
      "image/png": "[encoded data removed]",
      "text/plain": [
       "<matplotlib.figure.Figure at 0x7f9306d967f0>"
      ]
     },
     "metadata": {},
     "output_type": "display_data"
    },
    {
     "name": "stdout",
     "output_type": "stream",
     "text": [
      "Root mean square error: 0.7822008652205159\n",
      "r2 score: -0.151136205453\n",
      "Explained variance score -0.00881755050456\n",
      "Mean absolute error: 0.589612235726\n",
      "\n",
      " Ridge(alpha=0.5, copy_X=True, fit_intercept=True, max_iter=None,\n",
      "   normalize=False, random_state=None, solver='auto', tol=0.001)\n"
     ]
    },
    {
     "data": {
      "image/png": "[encoded data removed]",
      "text/plain": [
       "<matplotlib.figure.Figure at 0x7f9306af4048>"
      ]
     },
     "metadata": {},
     "output_type": "display_data"
    },
    {
     "name": "stdout",
     "output_type": "stream",
     "text": [
      "Root mean square error: 0.7821843515271727\n",
      "r2 score: -0.151087600777\n",
      "Explained variance score -0.00880062528933\n",
      "Mean absolute error: 0.589594629685\n",
      "\n",
      " Lasso(alpha=1.0, copy_X=True, fit_intercept=True, max_iter=1000,\n",
      "   normalize=False, positive=False, precompute=False, random_state=None,\n",
      "   selection='cyclic', tol=0.0001, warm_start=False)\n"
     ]
    },
    {
     "data": {
      "image/png": "[encoded data removed]",
      "text/plain": [
       "<matplotlib.figure.Figure at 0x7f9306b07d68>"
      ]
     },
     "metadata": {},
     "output_type": "display_data"
    },
    {
     "name": "stdout",
     "output_type": "stream",
     "text": [
      "Root mean square error: 0.8088364041521316\n",
      "r2 score: -0.230868079307\n",
      "Explained variance score -0.042256185793\n",
      "Mean absolute error: 0.620316856028\n",
      "\n",
      " DecisionTreeRegressor(criterion='mse', max_depth=7, max_features=None,\n",
      "           max_leaf_nodes=None, min_samples_leaf=1, min_samples_split=2,\n",
      "           min_weight_fraction_leaf=0.0, presort=False, random_state=None,\n",
      "           splitter='best')\n"
     ]
    },
    {
     "data": {
      "image/png": "[encoded data removed]",
      "text/plain": [
       "<matplotlib.figure.Figure at 0x7f9307bd2c50>"
      ]
     },
     "metadata": {},
     "output_type": "display_data"
    },
    {
     "name": "stdout",
     "output_type": "stream",
     "text": [
      "Root mean square error: 1.0021957336332203\n",
      "r2 score: -0.889710293529\n",
      "Explained variance score -0.8538767419\n",
      "Mean absolute error: 0.471330967212\n",
      "\n",
      " RandomForestRegressor(bootstrap=True, criterion='mse', max_depth=10,\n",
      "           max_features='auto', max_leaf_nodes=None, min_samples_leaf=1,\n",
      "           min_samples_split=2, min_weight_fraction_leaf=0.0,\n",
      "           n_estimators=10, n_jobs=1, oob_score=False, random_state=None,\n",
      "           verbose=0, warm_start=False)\n"
     ]
    },
    {
     "data": {
      "image/png": "[encoded data removed]",
      "text/plain": [
       "<matplotlib.figure.Figure at 0x7f9306979b70>"
      ]
     },
     "metadata": {},
     "output_type": "display_data"
    },
    {
     "name": "stdout",
     "output_type": "stream",
     "text": [
      "Root mean square error: 0.7599771747632211\n",
      "r2 score: -0.0866538603545\n",
      "Explained variance score -0.0584529061493\n",
      "Mean absolute error: 0.427957049346\n",
      "\n",
      " KNeighborsRegressor(algorithm='auto', leaf_size=30, metric='minkowski',\n",
      "          metric_params=None, n_jobs=1, n_neighbors=100, p=2,\n",
      "          weights='uniform')\n"
     ]
    },
    {
     "data": {
      "image/png": "[encoded data removed]",
      "text/plain": [
       "<matplotlib.figure.Figure at 0x7f93064f9908>"
      ]
     },
     "metadata": {},
     "output_type": "display_data"
    },
    {
     "name": "stdout",
     "output_type": "stream",
     "text": [
      "Root mean square error: 0.7372114558073274\n",
      "r2 score: -0.0225258124167\n",
      "Explained variance score 0.0258476496909\n",
      "Mean absolute error: 0.491654422289\n"
     ]
    }
   ],
   "source": [
    "from sklearn.metrics import f1_score\n",
    "for i in clfList:\n",
    "    clf = i.fit(allRowsList[:3963],df_features['Abs_Trade_Value_Diff'][:3963] )\n",
    "    print(\"\\n\",i)\n",
    "    predicted = clf.predict(allRowsList[3963:])\n",
    "    calculate_error(df_features['Abs_Trade_Value_Diff'][3963:], predicted)"
   ]
  },
  {
   "cell_type": "code",
   "execution_count": 67,
   "metadata": {
    "collapsed": false
   },
   "outputs": [
    {
     "data": {
      "image/png": "[encoded data removed]",
      "text/plain": [
       "<matplotlib.figure.Figure at 0x7f802281d828>"
      ]
     },
     "metadata": {},
     "output_type": "display_data"
    },
    {
     "name": "stdout",
     "output_type": "stream",
     "text": [
      "Root mean square error: 0.8407877274211133\n",
      "r2 score: 0.161714832654\n",
      "Explained variance score 0.162992296811\n",
      "Mean absolute error: 0.477100363168\n"
     ]
    }
   ],
   "source": [
    "from sklearn.preprocessing import PolynomialFeatures\n",
    "from sklearn import linear_model\n",
    "poly = PolynomialFeatures(degree=2)\n",
    "X_ = poly.fit_transform(allRowsList[:3963])\n",
    "predict_ = poly.fit_transform(allRowsList[3963:])\n",
    "\n",
    "clf = linear_model.LinearRegression()\n",
    "clf.fit(X_, df_features['Trade_Value_Diff'][:3963])\n",
    "pred = clf.predict(predict_)\n",
    "calculate_error(df_features['Trade_Value_Diff'][3963:], pred)"
   ]
  },
  {
   "cell_type": "code",
   "execution_count": 103,
   "metadata": {
    "collapsed": false
   },
   "outputs": [
    {
     "data": {
      "image/png": "[encoded data removed]",
      "text/plain": [
       "<matplotlib.figure.Figure at 0x7f9306335278>"
      ]
     },
     "metadata": {},
     "output_type": "display_data"
    },
    {
     "name": "stdout",
     "output_type": "stream",
     "text": [
      "Root mean square error: 0.8527159648875555\n",
      "r2 score: -0.104638538584\n",
      "Explained variance score -0.0894714909235\n",
      "Mean absolute error: 0.430748232265\n"
     ]
    }
   ],
   "source": [
    "from  sklearn import ensemble\n",
    "params = {'n_estimators': 500, 'max_depth': 4, 'min_samples_split': 2,\n",
    "          'learning_rate': 0.01, 'loss': 'ls'}\n",
    "clf = ensemble.GradientBoostingRegressor(**params)\n",
    "\n",
    "clf.fit(allRowsList[:3963], df_features['Trade_Value_Diff'][:3963])\n",
    "pred = clf.predict(allRowsList[3963:])\n",
    "calculate_error(df_features['Trade_Value_Diff'][3963:], pred)"
   ]
  },
  {
   "cell_type": "code",
   "execution_count": 104,
   "metadata": {
    "collapsed": false
   },
   "outputs": [
    {
     "data": {
      "image/png": "[encoded data removed]",
      "text/plain": [
       "<matplotlib.figure.Figure at 0x7f9306267b38>"
      ]
     },
     "metadata": {},
     "output_type": "display_data"
    }
   ],
   "source": [
    "feature_importance = clf.feature_importances_\n",
    "# make importances relative to max importance\n",
    "feature_importance = 100.0 * (feature_importance / feature_importance.max())\n",
    "sorted_idx = np.argsort(feature_importance)\n",
    "pos = np.arange(sorted_idx.shape[0]) + .5\n",
    "plt.subplot(1, 2, 2)\n",
    "plt.barh(pos, feature_importance[sorted_idx], align='center')\n",
    "plt.yticks(pos, inputV[sorted_idx])\n",
    "plt.xlabel('Relative Importance')\n",
    "plt.title('Variable Importance')\n",
    "plt.show()"
   ]
  },
  {
   "cell_type": "code",
   "execution_count": 43,
   "metadata": {
    "collapsed": false
   },
   "outputs": [],
   "source": [
    "#Final Prediction for 2015\n",
    "\n",
    "df_pref_features = df_features\n",
    "inputV = df_pref_features[[\"Num_Player_Diff\",\"Year\",\"Age_Diff\",\"WAR_Diff\",\"Salary_Diff\",\"AllStar_Diff\"]]"
   ]
  },
  {
   "cell_type": "code",
   "execution_count": 45,
   "metadata": {
    "collapsed": true
   },
   "outputs": [],
   "source": [
    "allRowsList = []\n",
    "for idx,row in inputV.iterrows():\n",
    "    currentRowList = row.values.tolist()\n",
    "    allRowsList.append(currentRowList)"
   ]
  },
  {
   "cell_type": "code",
   "execution_count": 107,
   "metadata": {
    "collapsed": false
   },
   "outputs": [
    {
     "ename": "ValueError",
     "evalue": "query data dimension must match training data dimension",
     "output_type": "error",
     "traceback": [
      "\u001b[0;31m---------------------------------------------------------------------------\u001b[0m",
      "\u001b[0;31mValueError\u001b[0m                                Traceback (most recent call last)",
      "\u001b[0;32m<ipython-input-107-2fce06e20045>\u001b[0m in \u001b[0;36m<module>\u001b[0;34m()\u001b[0m\n\u001b[0;32m----> 1\u001b[0;31m \u001b[0mpred\u001b[0m \u001b[0;34m=\u001b[0m \u001b[0mclf\u001b[0m\u001b[0;34m.\u001b[0m\u001b[0mpredict\u001b[0m\u001b[0;34m(\u001b[0m\u001b[0mpredict_\u001b[0m\u001b[0;34m)\u001b[0m\u001b[0;34m\u001b[0m\u001b[0m\n\u001b[0m\u001b[1;32m      2\u001b[0m \u001b[0mprint\u001b[0m\u001b[0;34m(\u001b[0m\u001b[0mlen\u001b[0m\u001b[0;34m(\u001b[0m\u001b[0mpred\u001b[0m\u001b[0;34m)\u001b[0m\u001b[0;34m)\u001b[0m\u001b[0;34m\u001b[0m\u001b[0m\n\u001b[1;32m      3\u001b[0m \u001b[0mdf_pref_features\u001b[0m\u001b[0;34m[\u001b[0m\u001b[0;34m'Predicted_Trade_Diff'\u001b[0m\u001b[0;34m]\u001b[0m \u001b[0;34m=\u001b[0m \u001b[0mpred\u001b[0m\u001b[0;34m\u001b[0m\u001b[0m\n",
      "\u001b[0;32m/usr/local/lib/python3.4/dist-packages/sklearn/neighbors/regression.py\u001b[0m in \u001b[0;36mpredict\u001b[0;34m(self, X)\u001b[0m\n\u001b[1;32m    142\u001b[0m         \u001b[0mX\u001b[0m \u001b[0;34m=\u001b[0m \u001b[0mcheck_array\u001b[0m\u001b[0;34m(\u001b[0m\u001b[0mX\u001b[0m\u001b[0;34m,\u001b[0m \u001b[0maccept_sparse\u001b[0m\u001b[0;34m=\u001b[0m\u001b[0;34m'csr'\u001b[0m\u001b[0;34m)\u001b[0m\u001b[0;34m\u001b[0m\u001b[0m\n\u001b[1;32m    143\u001b[0m \u001b[0;34m\u001b[0m\u001b[0m\n\u001b[0;32m--> 144\u001b[0;31m         \u001b[0mneigh_dist\u001b[0m\u001b[0;34m,\u001b[0m \u001b[0mneigh_ind\u001b[0m \u001b[0;34m=\u001b[0m \u001b[0mself\u001b[0m\u001b[0;34m.\u001b[0m\u001b[0mkneighbors\u001b[0m\u001b[0;34m(\u001b[0m\u001b[0mX\u001b[0m\u001b[0;34m)\u001b[0m\u001b[0;34m\u001b[0m\u001b[0m\n\u001b[0m\u001b[1;32m    145\u001b[0m \u001b[0;34m\u001b[0m\u001b[0m\n\u001b[1;32m    146\u001b[0m         \u001b[0mweights\u001b[0m \u001b[0;34m=\u001b[0m \u001b[0m_get_weights\u001b[0m\u001b[0;34m(\u001b[0m\u001b[0mneigh_dist\u001b[0m\u001b[0;34m,\u001b[0m \u001b[0mself\u001b[0m\u001b[0;34m.\u001b[0m\u001b[0mweights\u001b[0m\u001b[0;34m)\u001b[0m\u001b[0;34m\u001b[0m\u001b[0m\n",
      "\u001b[0;32m/usr/local/lib/python3.4/dist-packages/sklearn/neighbors/base.py\u001b[0m in \u001b[0;36mkneighbors\u001b[0;34m(self, X, n_neighbors, return_distance)\u001b[0m\n\u001b[1;32m    397\u001b[0m                 delayed(self._tree.query, check_pickle=False)(\n\u001b[1;32m    398\u001b[0m                     X[s], n_neighbors, return_distance)\n\u001b[0;32m--> 399\u001b[0;31m                 \u001b[0;32mfor\u001b[0m \u001b[0ms\u001b[0m \u001b[0;32min\u001b[0m \u001b[0mgen_even_slices\u001b[0m\u001b[0;34m(\u001b[0m\u001b[0mX\u001b[0m\u001b[0;34m.\u001b[0m\u001b[0mshape\u001b[0m\u001b[0;34m[\u001b[0m\u001b[0;36m0\u001b[0m\u001b[0;34m]\u001b[0m\u001b[0;34m,\u001b[0m \u001b[0mn_jobs\u001b[0m\u001b[0;34m)\u001b[0m\u001b[0;34m\u001b[0m\u001b[0m\n\u001b[0m\u001b[1;32m    400\u001b[0m             )\n\u001b[1;32m    401\u001b[0m             \u001b[0;32mif\u001b[0m \u001b[0mreturn_distance\u001b[0m\u001b[0;34m:\u001b[0m\u001b[0;34m\u001b[0m\u001b[0m\n",
      "\u001b[0;32m/usr/local/lib/python3.4/dist-packages/sklearn/externals/joblib/parallel.py\u001b[0m in \u001b[0;36m__call__\u001b[0;34m(self, iterable)\u001b[0m\n\u001b[1;32m    798\u001b[0m             \u001b[0;31m# was dispatched. In particular this covers the edge\u001b[0m\u001b[0;34m\u001b[0m\u001b[0;34m\u001b[0m\u001b[0m\n\u001b[1;32m    799\u001b[0m             \u001b[0;31m# case of Parallel used with an exhausted iterator.\u001b[0m\u001b[0;34m\u001b[0m\u001b[0;34m\u001b[0m\u001b[0m\n\u001b[0;32m--> 800\u001b[0;31m             \u001b[0;32mwhile\u001b[0m \u001b[0mself\u001b[0m\u001b[0;34m.\u001b[0m\u001b[0mdispatch_one_batch\u001b[0m\u001b[0;34m(\u001b[0m\u001b[0miterator\u001b[0m\u001b[0;34m)\u001b[0m\u001b[0;34m:\u001b[0m\u001b[0;34m\u001b[0m\u001b[0m\n\u001b[0m\u001b[1;32m    801\u001b[0m                 \u001b[0mself\u001b[0m\u001b[0;34m.\u001b[0m\u001b[0m_iterating\u001b[0m \u001b[0;34m=\u001b[0m \u001b[0;32mTrue\u001b[0m\u001b[0;34m\u001b[0m\u001b[0m\n\u001b[1;32m    802\u001b[0m             \u001b[0;32melse\u001b[0m\u001b[0;34m:\u001b[0m\u001b[0;34m\u001b[0m\u001b[0m\n",
      "\u001b[0;32m/usr/local/lib/python3.4/dist-packages/sklearn/externals/joblib/parallel.py\u001b[0m in \u001b[0;36mdispatch_one_batch\u001b[0;34m(self, iterator)\u001b[0m\n\u001b[1;32m    656\u001b[0m                 \u001b[0;32mreturn\u001b[0m \u001b[0;32mFalse\u001b[0m\u001b[0;34m\u001b[0m\u001b[0m\n\u001b[1;32m    657\u001b[0m             \u001b[0;32melse\u001b[0m\u001b[0;34m:\u001b[0m\u001b[0;34m\u001b[0m\u001b[0m\n\u001b[0;32m--> 658\u001b[0;31m                 \u001b[0mself\u001b[0m\u001b[0;34m.\u001b[0m\u001b[0m_dispatch\u001b[0m\u001b[0;34m(\u001b[0m\u001b[0mtasks\u001b[0m\u001b[0;34m)\u001b[0m\u001b[0;34m\u001b[0m\u001b[0m\n\u001b[0m\u001b[1;32m    659\u001b[0m                 \u001b[0;32mreturn\u001b[0m \u001b[0;32mTrue\u001b[0m\u001b[0;34m\u001b[0m\u001b[0m\n\u001b[1;32m    660\u001b[0m \u001b[0;34m\u001b[0m\u001b[0m\n",
      "\u001b[0;32m/usr/local/lib/python3.4/dist-packages/sklearn/externals/joblib/parallel.py\u001b[0m in \u001b[0;36m_dispatch\u001b[0;34m(self, batch)\u001b[0m\n\u001b[1;32m    564\u001b[0m \u001b[0;34m\u001b[0m\u001b[0m\n\u001b[1;32m    565\u001b[0m         \u001b[0;32mif\u001b[0m \u001b[0mself\u001b[0m\u001b[0;34m.\u001b[0m\u001b[0m_pool\u001b[0m \u001b[0;32mis\u001b[0m \u001b[0;32mNone\u001b[0m\u001b[0;34m:\u001b[0m\u001b[0;34m\u001b[0m\u001b[0m\n\u001b[0;32m--> 566\u001b[0;31m             \u001b[0mjob\u001b[0m \u001b[0;34m=\u001b[0m \u001b[0mImmediateComputeBatch\u001b[0m\u001b[0;34m(\u001b[0m\u001b[0mbatch\u001b[0m\u001b[0;34m)\u001b[0m\u001b[0;34m\u001b[0m\u001b[0m\n\u001b[0m\u001b[1;32m    567\u001b[0m             \u001b[0mself\u001b[0m\u001b[0;34m.\u001b[0m\u001b[0m_jobs\u001b[0m\u001b[0;34m.\u001b[0m\u001b[0mappend\u001b[0m\u001b[0;34m(\u001b[0m\u001b[0mjob\u001b[0m\u001b[0;34m)\u001b[0m\u001b[0;34m\u001b[0m\u001b[0m\n\u001b[1;32m    568\u001b[0m             \u001b[0mself\u001b[0m\u001b[0;34m.\u001b[0m\u001b[0mn_dispatched_batches\u001b[0m \u001b[0;34m+=\u001b[0m \u001b[0;36m1\u001b[0m\u001b[0;34m\u001b[0m\u001b[0m\n",
      "\u001b[0;32m/usr/local/lib/python3.4/dist-packages/sklearn/externals/joblib/parallel.py\u001b[0m in \u001b[0;36m__init__\u001b[0;34m(self, batch)\u001b[0m\n\u001b[1;32m    178\u001b[0m         \u001b[0;31m# Don't delay the application, to avoid keeping the input\u001b[0m\u001b[0;34m\u001b[0m\u001b[0;34m\u001b[0m\u001b[0m\n\u001b[1;32m    179\u001b[0m         \u001b[0;31m# arguments in memory\u001b[0m\u001b[0;34m\u001b[0m\u001b[0;34m\u001b[0m\u001b[0m\n\u001b[0;32m--> 180\u001b[0;31m         \u001b[0mself\u001b[0m\u001b[0;34m.\u001b[0m\u001b[0mresults\u001b[0m \u001b[0;34m=\u001b[0m \u001b[0mbatch\u001b[0m\u001b[0;34m(\u001b[0m\u001b[0;34m)\u001b[0m\u001b[0;34m\u001b[0m\u001b[0m\n\u001b[0m\u001b[1;32m    181\u001b[0m \u001b[0;34m\u001b[0m\u001b[0m\n\u001b[1;32m    182\u001b[0m     \u001b[0;32mdef\u001b[0m \u001b[0mget\u001b[0m\u001b[0;34m(\u001b[0m\u001b[0mself\u001b[0m\u001b[0;34m)\u001b[0m\u001b[0;34m:\u001b[0m\u001b[0;34m\u001b[0m\u001b[0m\n",
      "\u001b[0;32m/usr/local/lib/python3.4/dist-packages/sklearn/externals/joblib/parallel.py\u001b[0m in \u001b[0;36m__call__\u001b[0;34m(self)\u001b[0m\n\u001b[1;32m     70\u001b[0m \u001b[0;34m\u001b[0m\u001b[0m\n\u001b[1;32m     71\u001b[0m     \u001b[0;32mdef\u001b[0m \u001b[0m__call__\u001b[0m\u001b[0;34m(\u001b[0m\u001b[0mself\u001b[0m\u001b[0;34m)\u001b[0m\u001b[0;34m:\u001b[0m\u001b[0;34m\u001b[0m\u001b[0m\n\u001b[0;32m---> 72\u001b[0;31m         \u001b[0;32mreturn\u001b[0m \u001b[0;34m[\u001b[0m\u001b[0mfunc\u001b[0m\u001b[0;34m(\u001b[0m\u001b[0;34m*\u001b[0m\u001b[0margs\u001b[0m\u001b[0;34m,\u001b[0m \u001b[0;34m**\u001b[0m\u001b[0mkwargs\u001b[0m\u001b[0;34m)\u001b[0m \u001b[0;32mfor\u001b[0m \u001b[0mfunc\u001b[0m\u001b[0;34m,\u001b[0m \u001b[0margs\u001b[0m\u001b[0;34m,\u001b[0m \u001b[0mkwargs\u001b[0m \u001b[0;32min\u001b[0m \u001b[0mself\u001b[0m\u001b[0;34m.\u001b[0m\u001b[0mitems\u001b[0m\u001b[0;34m]\u001b[0m\u001b[0;34m\u001b[0m\u001b[0m\n\u001b[0m\u001b[1;32m     73\u001b[0m \u001b[0;34m\u001b[0m\u001b[0m\n\u001b[1;32m     74\u001b[0m     \u001b[0;32mdef\u001b[0m \u001b[0m__len__\u001b[0m\u001b[0;34m(\u001b[0m\u001b[0mself\u001b[0m\u001b[0;34m)\u001b[0m\u001b[0;34m:\u001b[0m\u001b[0;34m\u001b[0m\u001b[0m\n",
      "\u001b[0;32m/usr/local/lib/python3.4/dist-packages/sklearn/externals/joblib/parallel.py\u001b[0m in \u001b[0;36m<listcomp>\u001b[0;34m(.0)\u001b[0m\n\u001b[1;32m     70\u001b[0m \u001b[0;34m\u001b[0m\u001b[0m\n\u001b[1;32m     71\u001b[0m     \u001b[0;32mdef\u001b[0m \u001b[0m__call__\u001b[0m\u001b[0;34m(\u001b[0m\u001b[0mself\u001b[0m\u001b[0;34m)\u001b[0m\u001b[0;34m:\u001b[0m\u001b[0;34m\u001b[0m\u001b[0m\n\u001b[0;32m---> 72\u001b[0;31m         \u001b[0;32mreturn\u001b[0m \u001b[0;34m[\u001b[0m\u001b[0mfunc\u001b[0m\u001b[0;34m(\u001b[0m\u001b[0;34m*\u001b[0m\u001b[0margs\u001b[0m\u001b[0;34m,\u001b[0m \u001b[0;34m**\u001b[0m\u001b[0mkwargs\u001b[0m\u001b[0;34m)\u001b[0m \u001b[0;32mfor\u001b[0m \u001b[0mfunc\u001b[0m\u001b[0;34m,\u001b[0m \u001b[0margs\u001b[0m\u001b[0;34m,\u001b[0m \u001b[0mkwargs\u001b[0m \u001b[0;32min\u001b[0m \u001b[0mself\u001b[0m\u001b[0;34m.\u001b[0m\u001b[0mitems\u001b[0m\u001b[0;34m]\u001b[0m\u001b[0;34m\u001b[0m\u001b[0m\n\u001b[0m\u001b[1;32m     73\u001b[0m \u001b[0;34m\u001b[0m\u001b[0m\n\u001b[1;32m     74\u001b[0m     \u001b[0;32mdef\u001b[0m \u001b[0m__len__\u001b[0m\u001b[0;34m(\u001b[0m\u001b[0mself\u001b[0m\u001b[0;34m)\u001b[0m\u001b[0;34m:\u001b[0m\u001b[0;34m\u001b[0m\u001b[0m\n",
      "\u001b[0;32msklearn/neighbors/binary_tree.pxi\u001b[0m in \u001b[0;36msklearn.neighbors.kd_tree.BinaryTree.query (sklearn/neighbors/kd_tree.c:10451)\u001b[0;34m()\u001b[0m\n",
      "\u001b[0;31mValueError\u001b[0m: query data dimension must match training data dimension"
     ]
    }
   ],
   "source": [
    "X_ = poly.fit_transform(allRowsList)\n",
    "predict_ = poly.fit_transform(allRowsList)\n",
    "pred = clf.predict(predict_)\n",
    "print(len(pred))\n",
    "df_pref_features['Predicted_Trade_Diff'] = pred"
   ]
  },
  {
   "cell_type": "code",
   "execution_count": 34,
   "metadata": {
    "collapsed": false
   },
   "outputs": [
    {
     "name": "stderr",
     "output_type": "stream",
     "text": [
      "/usr/local/lib/python3.4/dist-packages/ipykernel/__main__.py:1: FutureWarning: sort(columns=....) is deprecated, use sort_values(by=.....)\n",
      "  if __name__ == '__main__':\n"
     ]
    }
   ],
   "source": [
    "df_pref_features = df_pref_features.sort(columns='Predicted_Trade_Diff',ascending=False)"
   ]
  },
  {
   "cell_type": "code",
   "execution_count": 35,
   "metadata": {
    "collapsed": false
   },
   "outputs": [],
   "source": [
    "pred_df = pd.DataFrame(columns = ['Rank','Date','Team1','Team2','Players Team1','Player Team2','Trade Value Diff'])\n",
    "k = 0\n",
    "for index,row in df_pref_features.iterrows():\n",
    "    tranID = row['TranID']\n",
    "    value = row['Predicted_Trade_Diff']\n",
    "    tran = df_tran[df_tran['transaction-ID'] == tranID]\n",
    "    teams = tran['from-team'].unique()\n",
    "    t1 = teams[0]\n",
    "    t2 = teams[1]\n",
    "    p1List = []\n",
    "    p2List = []\n",
    "    for index,row in tran.iterrows():\n",
    "        pl = df_master[df_master['retroID'] == row['player']]\n",
    "        if row['from-team'] == t1:\n",
    "            p1List.append(''.join(pl['nameFirst'].values +\" \"+ pl['nameLast'].values))\n",
    "        else:\n",
    "            p2List.append(''.join(pl['nameFirst'].values + \" \" + pl['nameLast'].values))\n",
    "    p1str = ','.join(p1List)\n",
    "    p2str = ','.join(p2List)\n",
    "    date = tran['primary-date'].iloc[0]\n",
    "    pred_df.loc[k] = [int(k+1),date,t1,t2,p1str,p2str,value]\n",
    "    k += 1"
   ]
  },
  {
   "cell_type": "code",
   "execution_count": 142,
   "metadata": {
    "collapsed": false
   },
   "outputs": [],
   "source": [
    "pred_df.to_csv(\"Predicted_Ranks.csv\")"
   ]
  },
  {
   "cell_type": "code",
   "execution_count": null,
   "metadata": {
    "collapsed": true
   },
   "outputs": [],
   "source": [
    "probInput = df_features[[\"WAR_Sum_1\",\"WAR_Sum_2\",\"Num_Players_1\",\"Num_Players_2\",\"Ages_1\",\"Ages_2\",\n",
    "                                                            \"Num_Player_Trades_1\",\"Num_Player_Trades_2\",\"Rank_1\",\"Rank_2\",\"Num_Trades_Team_1\",\n",
    "                                                            \"Num_Trades_Team_2\",\"Salary_Diff\",\"allstar_1\",\"allstar_2\",\"Num_Pitchers_1\",\n",
    "                                                            \"Num_Pitchers_2\",\"Num_Batters_1\",\"Num_Batters_2\"]]\n",
    "probOutput = df_features['Trade_Value_Diff'].apply(lambda x : 1 if x > 0 else 0)\n",
    "df_features_2015 = df_features[df_features['Year'] == 2015]\n",
    "probInputPred = df_features_2015[[\"WAR_Sum_1\",\"WAR_Sum_2\",\"Num_Players_1\",\"Num_Players_2\",\"Ages_1\",\"Ages_2\",\n",
    "                                                            \"Num_Player_Trades_1\",\"Num_Player_Trades_2\",\"Rank_1\",\"Rank_2\",\"Num_Trades_Team_1\",\n",
    "                                                            \"Num_Trades_Team_2\"]]\n",
    "# Probability of winning\n",
    "from sklearn.linear_model import LogisticRegression\n",
    "model = LogisticRegression()\n",
    "model = model.fit(probInput[:3963], probOutput[:3963])\n",
    "\n",
    "# check the accuracy on the training set\n",
    "model.score(probInput[3963:], probOutput[3963:])\n",
    "pred  = model.predict_proba(probInputPred)\n",
    "pred  = model.predict(probInputPred)\n",
    "pred"
   ]
  }
 ],
 "metadata": {
  "anaconda-cloud": {},
  "kernelspec": {
   "display_name": "Python [Root]",
   "language": "python",
   "name": "Python [Root]"
  },
  "language_info": {
   "codemirror_mode": {
    "name": "ipython",
    "version": 2
   },
   "file_extension": ".py",
   "mimetype": "text/x-python",
   "name": "python",
   "nbconvert_exporter": "python",
   "pygments_lexer": "ipython2",
   "version": "2.7.12"
  },
  "widgets": {
   "state": {},
   "version": "1.1.2"
  }
 },
 "nbformat": 4,
 "nbformat_minor": 0
}
