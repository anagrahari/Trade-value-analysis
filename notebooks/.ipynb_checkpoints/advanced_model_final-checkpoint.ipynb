{
 "cells": [
  {
   "cell_type": "code",
   "execution_count": 2,
   "metadata": {
    "collapsed": false
   },
   "outputs": [
    {
     "name": "stderr",
     "output_type": "stream",
     "text": [
      "C:\\Users\\ANKIT\\Anaconda\\lib\\site-packages\\IPython\\core\\interactiveshell.py:2723: DtypeWarning: Columns (12) have mixed types. Specify dtype option on import or set low_memory=False.\n",
      "  interactivity=interactivity, compiler=compiler, result=result)\n"
     ]
    }
   ],
   "source": [
    "import pandas as pd\n",
    "import numpy as np\n",
    "import matplotlib.pyplot as plt\n",
    "%matplotlib inline\n",
    "from scipy.stats.stats import pearsonr\n",
    "import scipy.optimize as optimize\n",
    "import math\n",
    "from sklearn.linear_model import LinearRegression\n",
    "from sklearn.linear_model import Lasso\n",
    "from sklearn import linear_model\n",
    "from sklearn.linear_model import SGDClassifier\n",
    "from sklearn.ensemble import RandomForestRegressor\n",
    "from sklearn.tree import DecisionTreeRegressor\n",
    "from sklearn.ensemble import AdaBoostRegressor\n",
    "from sklearn import neighbors\n",
    "import seaborn as sns\n",
    "from math import sqrt\n",
    "from sklearn.metrics import mean_absolute_error, mean_squared_error, explained_variance_score, r2_score\n",
    "\n",
    "df_tran = pd.read_csv('../dataset/tran.txt',names=['primary-date','time','approximate-indicator','secondary-date','approximate-indicator',\n",
    "  'transaction-ID','player','type','from-team','from-league','to-team','to-league','draft-type','draft-round','pick-number','info'])\n",
    "df_playerid = pd.read_csv('../dataset/playerid_list.csv',names=['LASTNAME','FIRSTNAME','PLAYERID','DAVENPORTCODE','MLBCODE','player'],skiprows=1);\n",
    "df_master = pd.read_csv('../dataset/Master.csv')\n",
    "df_batting = pd.read_csv('../dataset/Batting.csv')\n",
    "df_pitching = pd.read_csv('../dataset/Pitching.csv')\n",
    "df_fielding = pd.read_csv('../dataset/Fielding.csv')\n",
    "df_batstat = pd.read_csv('../dataset/war_daily_bat.txt')\n",
    "df_pitchstat = pd.read_csv('../dataset/war_daily_pitch.txt')\n",
    "df_cpi = pd.read_csv('../dataset/CPI.csv')\n",
    "df_salaries = pd.read_csv('../dataset/Salaries.csv')\n",
    "pd.set_option('display.max_columns', 60)\n",
    "df_teams = pd.read_csv('../dataset/Teams.csv')\n",
    "\n",
    "# Data Cleanup\n",
    "# Recontructing invalid dates\n",
    "df_tran['primary-date'] = df_tran['primary-date'].astype('str')\n",
    "df_tran['primary-date'] = df_tran['primary-date'].str.replace(r'\\A(\\d{4})[0]{4}', r'\\g<1>0101')\n",
    "df_tran['primary-date'] = df_tran['primary-date'].str.replace(r'\\A(\\d{4})(..)[0]{2}', r'\\g<1>\\g<2>01')\n",
    "\n",
    "#Extracting only trades from transaction dataframe\n",
    "df_tran = df_tran[df_tran['type'] == \"T \"]\n",
    "df_tran = df_tran[df_tran['to-league'].isin(['AL','NL'])]\n",
    "df_tran = df_tran[df_tran['from-league'].isin(['AL','NL'])]\n",
    "\n",
    "df_tran['primary-date'] = pd.to_datetime(df_tran['primary-date'], format='%Y%m%d')\n",
    "df_tran['tranYear'] = df_tran['primary-date'].apply(lambda x : int(x.year))"
   ]
  },
  {
   "cell_type": "markdown",
   "metadata": {
    "collapsed": true
   },
   "source": [
    "Advanced Model"
   ]
  },
  {
   "cell_type": "code",
   "execution_count": 30,
   "metadata": {
    "collapsed": true
   },
   "outputs": [],
   "source": [
    "df_master['player_ID'] = df_master['bbrefID']\n",
    "df_batstat = pd.merge(df_batstat,df_master[['player_ID','retroID']],on='player_ID',how='inner')\n",
    "df_pitchstat = pd.merge(df_batstat,df_master[['player_ID','retroID']],on='player_ID',how='inner')\n",
    "df_batting = pd.merge(df_batting,df_master[['playerID','retroID','birthYear']],on='playerID')\n",
    "df_pitching = pd.merge(df_pitching,df_master[['playerID','retroID','birthYear']],on='playerID')\n",
    "df_fielding = pd.merge(df_fielding,df_master[['playerID','retroID','birthYear']],on='playerID')\n",
    "df_batting['age']= df_batting['yearID'] - df_batting['birthYear']\n",
    "df_pitching['age']= df_pitching['yearID'] - df_pitching['birthYear']\n",
    "df_fielding['age']= df_fielding['yearID'] - df_fielding['birthYear']"
   ]
  },
  {
   "cell_type": "code",
   "execution_count": 29,
   "metadata": {
    "collapsed": false
   },
   "outputs": [
    {
     "name": "stderr",
     "output_type": "stream",
     "text": [
      "C:\\Users\\ANKIT\\Anaconda\\lib\\site-packages\\ipykernel\\__main__.py:1: FutureWarning: sort(columns=....) is deprecated, use sort_values(by=.....)\n",
      "  if __name__ == '__main__':\n"
     ]
    }
   ],
   "source": [
    "df_batstat_sort = df_batstat.sort('age')\n",
    "df_batstat_sort = df_batstat_sort[pd.notnull(df_batstat_sort['age'])]\n",
    "agedict = {}\n",
    "\n",
    "#print df_batstat_sort.age\n",
    "for index, row in df_batstat_sort.iterrows():\n",
    "    if(row['age'] in agedict):\n",
    "        agedict[row['age']].append(row['WAR'])\n",
    "    else:\n",
    "        agedict[row['age']] = [row['WAR']]"
   ]
  },
  {
   "cell_type": "code",
   "execution_count": 12,
   "metadata": {
    "collapsed": false
   },
   "outputs": [
    {
     "name": "stderr",
     "output_type": "stream",
     "text": [
      "/usr/local/lib/python3.4/dist-packages/ipykernel/__main__.py:10: FutureWarning: sort(columns=....) is deprecated, use sort_values(by=.....)\n"
     ]
    }
   ],
   "source": [
    "age = []\n",
    "avg_WAR= []\n",
    "i=0\n",
    "for key in agedict:\n",
    "    if (~np.isnan(key)):\n",
    "        avg = np.nansum(agedict[key]) / float(len(agedict[key]))\n",
    "        age.append(key)\n",
    "        avg_WAR.append(avg)\n",
    "        \n",
    "age_df = pd.DataFrame({ 'Age' : age,'Average_WAR' : avg_WAR}).sort('Age')"
   ]
  },
  {
   "cell_type": "code",
   "execution_count": 13,
   "metadata": {
    "collapsed": true
   },
   "outputs": [],
   "source": [
    "#age_df\n",
    "def getAvgWarForAge(age):\n",
    "    return (age_df[(age_df['Age'] == age)]['Average_WAR']).iloc[0]"
   ]
  },
  {
   "cell_type": "code",
   "execution_count": null,
   "metadata": {
    "collapsed": false
   },
   "outputs": [],
   "source": [
    "plt.xlabel(\"Age\")\n",
    "plt.ylabel(\"Average_WAR\")\n",
    "plt.plot(age_df.Age, age_df.Average_WAR);"
   ]
  },
  {
   "cell_type": "code",
   "execution_count": 14,
   "metadata": {
    "collapsed": false
   },
   "outputs": [],
   "source": [
    "def player_performance_projection(playerID, age):\n",
    "    player_df = df_batstat[(df_batstat['retroID'] == playerID)]\n",
    "    player_df_before = player_df[player_df['age']< age]\n",
    "    diff = [0]\n",
    "    for index,row in player_df_before.iterrows():\n",
    "        diff.append(row['WAR'] - getAvgWarForAge(row['age']))\n",
    "    mPerf  = np.mean(diff)    \n",
    "    dict = {}\n",
    "    for j in range(1,16):\n",
    "        if age + j < 50:\n",
    "            dict[j] = (getAvgWarForAge(age + j) + mPerf/j)\n",
    "        else:\n",
    "            dict[j] = 0\n",
    "    return dict"
   ]
  },
  {
   "cell_type": "code",
   "execution_count": 15,
   "metadata": {
    "collapsed": true
   },
   "outputs": [],
   "source": [
    "def trade_value_year_projection(tranID,metric):\n",
    "    td = df_tran[(df_tran['transaction-ID'] == tranID)]\n",
    "    teams = td['from-team'].unique()\n",
    "    val = 0\n",
    "    player_vals = []\n",
    "    for x in teams:\n",
    "        valDict = {}\n",
    "        for index, row in td.iterrows():\n",
    "            val = 0\n",
    "            if (row['from-team'] == x):\n",
    "                if pd.isnull(row['player']):\n",
    "                    # filter out cash transactions or yet to be named player transaction\n",
    "                    continue\n",
    "                birthYear = df_master['birthYear'][df_master['retroID'] == row['player']]\n",
    "                if birthYear.empty:\n",
    "                    continue\n",
    "                birthYear = birthYear.iloc[0]\n",
    "                age = row['tranYear'] - birthYear\n",
    "                tempDict = player_performance_projection(row['player'],age)\n",
    "                for i in range(1,16):\n",
    "                    if i in valDict.keys():\n",
    "                        valDict[i] += tempDict[i]\n",
    "                    else:\n",
    "                        valDict[i] = tempDict[i]\n",
    "        player_vals.append(valDict)\n",
    "    return player_vals"
   ]
  },
  {
   "cell_type": "code",
   "execution_count": 16,
   "metadata": {
    "collapsed": false
   },
   "outputs": [],
   "source": [
    "def f(c):\n",
    "    ret = 0.0\n",
    "    for key, value in dict1.items():\n",
    "        ret  += pow((1 - c[0]/100),key)*value\n",
    "    for key, value in dict2.items():\n",
    "        ret  -= pow((1 - c[1]/100),key)*value\n",
    "    return abs(ret)\n",
    "\n",
    "bnds = ((0, 100), (0, 100))"
   ]
  },
  {
   "cell_type": "code",
   "execution_count": null,
   "metadata": {
    "collapsed": false
   },
   "outputs": [],
   "source": [
    "trade_val_projection_list = []\n",
    "transactions = df_tran['transaction-ID'].unique()\n",
    "for x in transactions:\n",
    "    listnew = trade_value_year_projection(x,'WAR')\n",
    "    dict1 = listnew[0]\n",
    "    dict2 = listnew[1]\n",
    "    result = optimize.minimize(f, (50, 50), method='TNC', bounds=bnds)\n",
    "    trade_val_projection_list.append((x,result.x,result.fun))"
   ]
  },
  {
   "cell_type": "code",
   "execution_count": 17,
   "metadata": {
    "collapsed": true
   },
   "outputs": [],
   "source": [
    "def trade_value_year_actual(tranID,metric):\n",
    "    td = df_tran[(df_tran['transaction-ID'] == tranID)]\n",
    "    teams = td['from-team'].unique()\n",
    "    val = 0\n",
    "    player_vals = []\n",
    "    for x in teams:\n",
    "        valDict = {}\n",
    "        for index, row in td.iterrows():\n",
    "            val = 0\n",
    "            if (row['from-team'] == x):\n",
    "                if pd.isnull(row['player']):\n",
    "                    # filter out cash transactions or yet to be named player transaction\n",
    "                    continue\n",
    "                player_df = df_batstat[(df_batstat['retroID'] == row['player'])]\n",
    "                player_df_year = player_df[(player_df['year_ID'] == row['tranYear'])]\n",
    "                #instead need a df for the player after the trans year, and not just next, but all consecutive years\n",
    "                for i in range(1,15):\n",
    "                    player_df_year_next = player_df[(player_df['year_ID'] == (row['tranYear'] + i))]\n",
    "                    if not player_df_year_next.empty:\n",
    "                        # get the value of metric for each year after trade until 15 years else assume 0\n",
    "                        t = float(player_df_year_next[metric].iloc[0])\n",
    "                        #print(t)\n",
    "                        if i in valDict.keys():\n",
    "                            valDict[i] += t\n",
    "                        else:\n",
    "                            valDict[i] = t\n",
    "                    else:\n",
    "                        ## figure out a way to find war for these players\n",
    "                        if i in valDict.keys():\n",
    "                            valDict[i] += 0\n",
    "                        else:\n",
    "                            valDict[i] = 0\n",
    "        player_vals.append(valDict)\n",
    "    return player_vals"
   ]
  },
  {
   "cell_type": "code",
   "execution_count": null,
   "metadata": {
    "collapsed": false
   },
   "outputs": [],
   "source": [
    "def f2(c,dict_1,dict_2):\n",
    "    ret = 0.0\n",
    "    for key, value in dict_1.items():\n",
    "        ret  += pow((1 - c[0]/100),key)*value\n",
    "    for key, value in dict_2.items():\n",
    "        ret  -= pow((1 - c[1]/100),key)*value\n",
    "    return abs(ret)\n",
    "\n",
    "diff_list = [] \n",
    "for i in trade_val_projection_list:\n",
    "    listnew = trade_value_year_actual(i[0],'WAR') #should come from projections instead of actual value\n",
    "    act = f2( i[1], listnew[0], listnew[1])\n",
    "    diff_list.append((i[0],act))"
   ]
  },
  {
   "cell_type": "code",
   "execution_count": null,
   "metadata": {
    "collapsed": true
   },
   "outputs": [],
   "source": [
    "import pickle\n",
    "with open('diff_list.pkl', 'wb') as f:\n",
    "    pickle.dump(diff_list,f)"
   ]
  },
  {
   "cell_type": "code",
   "execution_count": 18,
   "metadata": {
    "collapsed": true
   },
   "outputs": [],
   "source": [
    "import pickle\n",
    "with open(\"diff_list.pkl\", \"rb\") as input_file:\n",
    "    diff_list = pickle.load(input_file)"
   ]
  },
  {
   "cell_type": "code",
   "execution_count": 19,
   "metadata": {
    "collapsed": true
   },
   "outputs": [],
   "source": [
    "sList = sorted(diff_list,key=lambda x: x[1], reverse=True)"
   ]
  },
  {
   "cell_type": "code",
   "execution_count": 20,
   "metadata": {
    "collapsed": false
   },
   "outputs": [],
   "source": [
    "rank_df = pd.DataFrame(columns = ['Rank','Date','Team1','Team2','Players Team1','Player Team2','Trade Value Diff'])\n",
    "k = 0\n",
    "for i in sList:\n",
    "    tranID = i[0]\n",
    "    tran = df_tran[df_tran['transaction-ID'] == tranID]\n",
    "    teams = tran['from-team'].unique()\n",
    "    t1 = teams[0]\n",
    "    t2 = teams[1]\n",
    "    p1List = []\n",
    "    p2List = []\n",
    "    for index,row in tran.iterrows():\n",
    "        pl = df_master[df_master['retroID'] == row['player']]\n",
    "        if row['from-team'] == t1:\n",
    "            p1List.append(''.join(pl['nameFirst'].values +\" \"+ pl['nameLast'].values))\n",
    "        else:\n",
    "            p2List.append(''.join(pl['nameFirst'].values + \" \" + pl['nameLast'].values))\n",
    "    p1str = ','.join(p1List)\n",
    "    p2str = ','.join(p2List)\n",
    "    date = tran['primary-date'].iloc[0]\n",
    "    rank_df.loc[k] = [int(k+1),date,t1,t2,p1str,p2str,i[1]]\n",
    "    k += 1"
   ]
  },
  {
   "cell_type": "code",
   "execution_count": 7,
   "metadata": {
    "collapsed": true
   },
   "outputs": [],
   "source": [
    "rank_df['tranMonth'] = rank_df['Date'].apply(lambda x : int(x.month))\n",
    "rank_df['tranYear'] = rank_df['Date'].apply(lambda x : int(x.year))"
   ]
  },
  {
   "cell_type": "code",
   "execution_count": 141,
   "metadata": {
    "collapsed": false
   },
   "outputs": [],
   "source": [
    "rank_df.to_csv(\"Analysed_Ranks.csv\")"
   ]
  },
  {
   "cell_type": "code",
   "execution_count": 93,
   "metadata": {
    "collapsed": false
   },
   "outputs": [
    {
     "name": "stdout",
     "output_type": "stream",
     "text": [
      "(-0.18193798395574406, 4.8448540273174716e-43)\n"
     ]
    }
   ],
   "source": [
    "merged_column = rank_df[['tranYear','Trade Value Diff']].dropna()\n",
    "print(pearsonr(merged_column['tranYear'], merged_column['Trade Value Diff']))"
   ]
  },
  {
   "cell_type": "code",
   "execution_count": 27,
   "metadata": {
    "collapsed": false
   },
   "outputs": [
    {
     "name": "stderr",
     "output_type": "stream",
     "text": [
      "/usr/local/lib/python3.4/dist-packages/ipykernel/__main__.py:2: FutureWarning: sort(columns=....) is deprecated, use sort_values(by=.....)\n",
      "  from ipykernel import kernelapp as app\n"
     ]
    }
   ],
   "source": [
    "curr_cpi = df_cpi[df_cpi['Year']==2016]['CPI'].iloc[0]\n",
    "df_sort = df_tran.sort(['transaction-ID'])\n",
    "no_of_trade = pd.DataFrame(columns = ['Year','PIT', 'SL5', 'CHN', 'WS8', 'IN3', 'PHI', 'NY1', 'LS3', 'SLN',\n",
    "       'BLN', 'BSN', 'BRO', 'WSN', 'CL4', 'CIN', 'CLE', 'BOS', 'DET',\n",
    "       'WS1', 'CHA', 'NYA', 'SLA', 'PHA', 'MLN', 'BAL', 'KC1', 'SFN',\n",
    "       'LAN', 'WS2', 'LAA', 'MIN', 'HOU', 'NYN', 'CAL', 'ATL', 'OAK',\n",
    "       'SDN', 'KCA', 'MON', 'SE1', 'MIL', 'TEX', 'TOR', 'SEA', 'FLO',\n",
    "       'COL', 'ANA', 'ARI', 'TBA', 'WAS', 'MIA'] )\n",
    "#no_of_trade = no_of_trade.set_index(['Year'])\n",
    "#no_of_trade=no_of_trade.fillna(0.0, inplace=True)\n",
    "td = df_sort['transaction-ID'].unique()\n",
    "year = df_sort['tranYear'].unique()\n",
    "no_of_trade['Year'] = year\n",
    "no_of_trade=no_of_trade.fillna(0)\n",
    "for x in range(0, len(td)):\n",
    "    tran_id = df_sort[df_sort['transaction-ID']==td[x]].iloc[0]\n",
    "    yr = no_of_trade[no_of_trade['Year'] == tran_id['tranYear']].iloc[0]\n",
    "    yr[tran_id['from-team']] = yr[tran_id['from-team']] + 1;\n",
    "    no_of_trade[tran_id['from-team']][no_of_trade['Year'] == tran_id['tranYear']] = yr[tran_id['from-team']]\n",
    "    yr[tran_id['to-team']] = yr[tran_id['to-team']] + 1;\n",
    "    no_of_trade[tran_id['to-team']][no_of_trade['Year'] == tran_id['tranYear']] = yr[tran_id['to-team']]\n",
    "    \n",
    "tdiffDict = {}\n",
    "for i in sList:\n",
    "    tdiffDict[i[0]] = i[1]"
   ]
  },
  {
   "cell_type": "code",
   "execution_count": 37,
   "metadata": {
    "collapsed": true
   },
   "outputs": [],
   "source": [
    "#Calculates various params for each trade\n",
    "def trade_value_old(tranID,metric):\n",
    "    td = df_tran[(df_tran['transaction-ID'] == tranID)]\n",
    "    teams = td['from-team'].unique()\n",
    "    val = 0\n",
    "    year = td['tranYear'].iloc[0]\n",
    "    player_vals = [] #To calculate player val diff\n",
    "    num_players = [] #To calculate diff of number of players involved\n",
    "    num_trades = [] #To calculate number of trades each side players were involved in before the trade\n",
    "    num_trades_team = [] #To calculate number of trades each team did in this year\n",
    "    ages = [] #Average ages of the two sides\n",
    "    ranks = []\n",
    "    salary_vals = []\n",
    "    for x in teams:\n",
    "        #print x\n",
    "        val = 0 #for player_vals[]\n",
    "        num = 0 #for num_players[]\n",
    "        age = 0 #for ages[]\n",
    "        num_tr = 0 # for num_trades[]\n",
    "        sal = 0\n",
    "        t_ranks = df_teams[(df_teams['teamIDretro'] == x)]\n",
    "        t_rank = t_ranks[(t_ranks['yearID'] == year)]\n",
    "        if not t_rank.empty:\n",
    "            rank = t_rank['Rank'].iloc[0]\n",
    "        else:\n",
    "            rank = 7\n",
    "            \n",
    "        num_tr_team = no_of_trade[x][no_of_trade['Year']==year].iloc[0]\n",
    "        \n",
    "        for index, row in td.iterrows():\n",
    "            if (row['from-team'] == x):\n",
    "                if pd.isnull(row['player']):\n",
    "                    # filter out cash transactions or yet to be named player transaction \n",
    "                    continue\n",
    "                num += 1\n",
    "                #year = int(row['tranYear'])\n",
    "                player_df = df_batstat[(df_batstat['retroID'] == row['player'])]\n",
    "                player_df_year = player_df[(df_batstat['year_ID'] == row['tranYear'])]\n",
    "                \n",
    "                trades = df_tran[(df_tran['player'] == row['player'])]\n",
    "                trades_before = trades[(trades['tranYear'] < row['tranYear'])]\n",
    "                num_tr += len(trades_before)\n",
    "                \n",
    "                if not player_df_year.empty:\n",
    "                    val += float(player_df_year[metric].iloc[0])\n",
    "                    age += player_df_year['age'].iloc[0]\n",
    "                    slp = player_df_year['salary'].iloc[0]\n",
    "                    if not math.isnan(slp):\n",
    "                        sal += slp\n",
    "                elif not player_df.empty:\n",
    "                    # take a random value if we don't have war for that transaction year\n",
    "                    val += float(player_df[metric].iloc[0])\n",
    "                    age += player_df['age'].iloc[0]\n",
    "                    slp = float(player_df['salary'].iloc[0])\n",
    "                    if not math.isnan(slp):\n",
    "                        sal += slp\n",
    "                else:\n",
    "                    ## figure out a way to find war for these players\n",
    "                    val += 0\n",
    "        num_players.append(num)\n",
    "        num_trades.append(num_tr)\n",
    "        num_trades_team.append(num_tr_team)\n",
    "        player_vals.append(val)\n",
    "        ranks.append(rank)\n",
    "        salary_vals.append(sal)\n",
    "        if(num==0):\n",
    "            num = 1\n",
    "        ages.append(float(age/num))\n",
    "        v_diff = tdiffDict[tranID]\n",
    "    sal_diff = abs(salary_vals[0]-salary_vals[1])\n",
    "    new_val = sal_diff\n",
    "    old_cpi_df = df_cpi[df_cpi['Year']== year]['CPI']\n",
    "    old_cpi = old_cpi_df.iloc[0]\n",
    "    try:\n",
    "        new_sal_diff = int(float((curr_cpi/old_cpi))*float(sal_diff))\n",
    "    except ValueError as e:\n",
    "        new_sal_diff = sal_diff\n",
    "    #return (abs(player_vals[0]-player_vals[1]),tranID,abs(num_players[0]-num_players[1]),year,abs(ages[0]-ages[1]),v_diff)\n",
    "    resultDict = {}\n",
    "    resultDict['TranID'] = tranID\n",
    "    resultDict['Year'] = year\n",
    "    resultDict['Team_1'] = teams[0]\n",
    "    resultDict['Team_2'] = teams[1]\n",
    "    resultDict['Trade_Value_Diff'] = v_diff\n",
    "    resultDict['WAR_Sum_1'] =  player_vals[0]\n",
    "    resultDict['WAR_Sum_2'] = player_vals[1]\n",
    "    resultDict['Num_Players_1'] = num_players[0]\n",
    "    resultDict['Num_Players_2'] = num_players[1]\n",
    "    resultDict['Ages_1'] = ages[0]\n",
    "    resultDict['Ages_2'] = ages[1]\n",
    "    resultDict['Num_Player_Trades_1'] = num_trades[0]\n",
    "    resultDict['Num_Player_Trades_2'] = num_trades[1]\n",
    "    resultDict['Rank_1'] = ranks[0]\n",
    "    resultDict['Rank_2'] = ranks[1]\n",
    "    resultDict['Num_Trades_Team_1'] = num_trades_team[0]\n",
    "    resultDict['Num_Trades_Team_2'] = num_trades_team[1]\n",
    "    resultDict['Salary_Diff'] = new_sal_diff\n",
    "    return resultDict"
   ]
  },
  {
   "cell_type": "code",
   "execution_count": 38,
   "metadata": {
    "collapsed": false
   },
   "outputs": [
    {
     "name": "stderr",
     "output_type": "stream",
     "text": [
      "/usr/local/lib/python3.4/dist-packages/ipykernel/__main__.py:38: UserWarning: Boolean Series key will be reindexed to match DataFrame index.\n"
     ]
    }
   ],
   "source": [
    "trade_val_list_WAR_old = []\n",
    "transactions = df_tran['transaction-ID'].unique()\n",
    "for x in transactions:\n",
    "    trade_val_list_WAR_old.append(trade_value_old(x,'WAR'))"
   ]
  },
  {
   "cell_type": "code",
   "execution_count": 40,
   "metadata": {
    "collapsed": true
   },
   "outputs": [],
   "source": [
    "df_features = pd.DataFrame(trade_val_list_WAR_old, columns=[\"TranID\",\"Year\",\"Team_1\",\"Team_2\",\"Trade_Value_Diff\",\"WAR_Sum_1\",\n",
    "                                                            \"WAR_Sum_2\",\"Num_Players_1\",\"Num_Players_2\",\"Ages_1\",\"Ages_2\",\n",
    "                                                            \"Num_Player_Trades_1\",\"Num_Player_Trades_2\",\"Rank_1\",\"Rank_2\",\"Num_Trades_Team_1\",\n",
    "                                                            \"Num_Trades_Team_2\",\"Salary_Diff\"])"
   ]
  },
  {
   "cell_type": "code",
   "execution_count": 43,
   "metadata": {
    "collapsed": false
   },
   "outputs": [
    {
     "data": {
      "text/html": [
       "<div>\n",
       "<table border=\"1\" class=\"dataframe\">\n",
       "  <thead>\n",
       "    <tr style=\"text-align: right;\">\n",
       "      <th></th>\n",
       "      <th>TranID</th>\n",
       "      <th>Year</th>\n",
       "      <th>Team_1</th>\n",
       "      <th>Team_2</th>\n",
       "      <th>Trade_Value_Diff</th>\n",
       "      <th>WAR_Sum_1</th>\n",
       "      <th>WAR_Sum_2</th>\n",
       "      <th>Num_Players_1</th>\n",
       "      <th>Num_Players_2</th>\n",
       "      <th>Ages_1</th>\n",
       "      <th>Ages_2</th>\n",
       "      <th>Num_Player_Trades_1</th>\n",
       "      <th>Num_Player_Trades_2</th>\n",
       "      <th>Rank_1</th>\n",
       "      <th>Rank_2</th>\n",
       "      <th>Num_Trades_Team_1</th>\n",
       "      <th>Num_Trades_Team_2</th>\n",
       "      <th>Salary_Diff</th>\n",
       "    </tr>\n",
       "  </thead>\n",
       "  <tbody>\n",
       "    <tr>\n",
       "      <th>2360</th>\n",
       "      <td>50918</td>\n",
       "      <td>1979</td>\n",
       "      <td>CIN</td>\n",
       "      <td>CHN</td>\n",
       "      <td>0.016873</td>\n",
       "      <td>0.01</td>\n",
       "      <td>-0.14</td>\n",
       "      <td>1</td>\n",
       "      <td>1</td>\n",
       "      <td>27.0</td>\n",
       "      <td>28.0</td>\n",
       "      <td>1</td>\n",
       "      <td>0</td>\n",
       "      <td>1</td>\n",
       "      <td>5</td>\n",
       "      <td>4</td>\n",
       "      <td>8</td>\n",
       "      <td>0</td>\n",
       "    </tr>\n",
       "    <tr>\n",
       "      <th>577</th>\n",
       "      <td>49064</td>\n",
       "      <td>1940</td>\n",
       "      <td>WS1</td>\n",
       "      <td>BOS</td>\n",
       "      <td>1.005365</td>\n",
       "      <td>1.23</td>\n",
       "      <td>-0.50</td>\n",
       "      <td>1</td>\n",
       "      <td>1</td>\n",
       "      <td>32.0</td>\n",
       "      <td>34.0</td>\n",
       "      <td>2</td>\n",
       "      <td>1</td>\n",
       "      <td>7</td>\n",
       "      <td>4</td>\n",
       "      <td>3</td>\n",
       "      <td>5</td>\n",
       "      <td>8547</td>\n",
       "    </tr>\n",
       "    <tr>\n",
       "      <th>1399</th>\n",
       "      <td>49958</td>\n",
       "      <td>1966</td>\n",
       "      <td>ATL</td>\n",
       "      <td>CIN</td>\n",
       "      <td>0.013871</td>\n",
       "      <td>-0.28</td>\n",
       "      <td>-0.02</td>\n",
       "      <td>1</td>\n",
       "      <td>1</td>\n",
       "      <td>26.0</td>\n",
       "      <td>30.0</td>\n",
       "      <td>0</td>\n",
       "      <td>1</td>\n",
       "      <td>5</td>\n",
       "      <td>7</td>\n",
       "      <td>13</td>\n",
       "      <td>3</td>\n",
       "      <td>125486</td>\n",
       "    </tr>\n",
       "    <tr>\n",
       "      <th>940</th>\n",
       "      <td>49485</td>\n",
       "      <td>1956</td>\n",
       "      <td>KC1</td>\n",
       "      <td>NYA</td>\n",
       "      <td>0.108715</td>\n",
       "      <td>-0.05</td>\n",
       "      <td>0.65</td>\n",
       "      <td>2</td>\n",
       "      <td>2</td>\n",
       "      <td>32.5</td>\n",
       "      <td>29.5</td>\n",
       "      <td>1</td>\n",
       "      <td>4</td>\n",
       "      <td>8</td>\n",
       "      <td>1</td>\n",
       "      <td>7</td>\n",
       "      <td>4</td>\n",
       "      <td>0</td>\n",
       "    </tr>\n",
       "    <tr>\n",
       "      <th>2474</th>\n",
       "      <td>51032</td>\n",
       "      <td>1981</td>\n",
       "      <td>SEA</td>\n",
       "      <td>ATL</td>\n",
       "      <td>0.599867</td>\n",
       "      <td>-0.03</td>\n",
       "      <td>-0.30</td>\n",
       "      <td>1</td>\n",
       "      <td>1</td>\n",
       "      <td>24.0</td>\n",
       "      <td>30.0</td>\n",
       "      <td>0</td>\n",
       "      <td>1</td>\n",
       "      <td>6</td>\n",
       "      <td>5</td>\n",
       "      <td>7</td>\n",
       "      <td>3</td>\n",
       "      <td>88250</td>\n",
       "    </tr>\n",
       "  </tbody>\n",
       "</table>\n",
       "</div>"
      ],
      "text/plain": [
       "      TranID  Year Team_1 Team_2  Trade_Value_Diff  WAR_Sum_1  WAR_Sum_2  \\\n",
       "2360   50918  1979    CIN    CHN          0.016873       0.01      -0.14   \n",
       "577    49064  1940    WS1    BOS          1.005365       1.23      -0.50   \n",
       "1399   49958  1966    ATL    CIN          0.013871      -0.28      -0.02   \n",
       "940    49485  1956    KC1    NYA          0.108715      -0.05       0.65   \n",
       "2474   51032  1981    SEA    ATL          0.599867      -0.03      -0.30   \n",
       "\n",
       "      Num_Players_1  Num_Players_2  Ages_1  Ages_2  Num_Player_Trades_1  \\\n",
       "2360              1              1    27.0    28.0                    1   \n",
       "577               1              1    32.0    34.0                    2   \n",
       "1399              1              1    26.0    30.0                    0   \n",
       "940               2              2    32.5    29.5                    1   \n",
       "2474              1              1    24.0    30.0                    0   \n",
       "\n",
       "      Num_Player_Trades_2  Rank_1  Rank_2  Num_Trades_Team_1  \\\n",
       "2360                    0       1       5                  4   \n",
       "577                     1       7       4                  3   \n",
       "1399                    1       5       7                 13   \n",
       "940                     4       8       1                  7   \n",
       "2474                    1       6       5                  7   \n",
       "\n",
       "      Num_Trades_Team_2  Salary_Diff  \n",
       "2360                  8            0  \n",
       "577                   5         8547  \n",
       "1399                  3       125486  \n",
       "940                   4            0  \n",
       "2474                  3        88250  "
      ]
     },
     "execution_count": 43,
     "metadata": {},
     "output_type": "execute_result"
    }
   ],
   "source": [
    "df_features.head()"
   ]
  },
  {
   "cell_type": "code",
   "execution_count": 44,
   "metadata": {
    "collapsed": true
   },
   "outputs": [],
   "source": [
    "df_features['Num_Player_Diff'] = abs(df_features['Num_Players_1'] - df_features['Num_Players_2'])\n",
    "df_features['Age_Diff'] = abs(df_features['Ages_1'] - df_features['Ages_2'])\n",
    "df_features['WAR_Diff'] = abs(df_features['WAR_Sum_1'] - df_features['WAR_Sum_2'])"
   ]
  },
  {
   "cell_type": "code",
   "execution_count": 108,
   "metadata": {
    "collapsed": true
   },
   "outputs": [],
   "source": [
    "df_features['Abs_Trade_Value_Diff'] = abs(df_features['Trade_Value_Diff'])"
   ]
  },
  {
   "cell_type": "code",
   "execution_count": 109,
   "metadata": {
    "collapsed": false
   },
   "outputs": [
    {
     "data": {
      "text/plain": [
       "<matplotlib.axes._subplots.AxesSubplot at 0x7f168887b400>"
      ]
     },
     "execution_count": 109,
     "metadata": {},
     "output_type": "execute_result"
    },
    {
     "data": {
      "image/png": "[encoded data removed]",
      "text/plain": [
       "<matplotlib.figure.Figure at 0x7f1658bd1b38>"
      ]
     },
     "metadata": {},
     "output_type": "display_data"
    }
   ],
   "source": [
    "ser = df_features['Abs_Trade_Value_Diff']\n",
    "ser.plot.kde()"
   ]
  },
  {
   "cell_type": "code",
   "execution_count": 59,
   "metadata": {
    "collapsed": false
   },
   "outputs": [
    {
     "name": "stdout",
     "output_type": "stream",
     "text": [
      "Index(['TranID', 'Year', 'Team_1', 'Team_2', 'Trade_Value_Diff', 'WAR_Sum_1',\n",
      "       'WAR_Sum_2', 'Num_Players_1', 'Num_Players_2', 'Ages_1', 'Ages_2',\n",
      "       'Num_Player_Trades_1', 'Num_Player_Trades_2', 'Rank_1', 'Rank_2',\n",
      "       'Num_Trades_Team_1', 'Num_Trades_Team_2', 'Salary_Diff',\n",
      "       'Num_Player_Diff', 'Age_Diff', 'WAR_Diff'],\n",
      "      dtype='object')\n"
     ]
    }
   ],
   "source": [
    "print(df_features.columns)"
   ]
  },
  {
   "cell_type": "code",
   "execution_count": 65,
   "metadata": {
    "collapsed": false
   },
   "outputs": [
    {
     "name": "stdout",
     "output_type": "stream",
     "text": [
      "[ 0  1  2  3  4  5  6  7  8  9 10 11 12 13 14 15 16 17 18 19]\n"
     ]
    },
    {
     "data": {
      "image/png": "[encoded data removed]",
      "text/plain": [
       "<matplotlib.figure.Figure at 0x7f16589afcf8>"
      ]
     },
     "metadata": {},
     "output_type": "display_data"
    }
   ],
   "source": [
    "cols = df_features.columns\n",
    "correlations = df_features[cols].corr(method='spearman')\n",
    "\n",
    "fig = plt.figure(figsize=(40,20))\n",
    "ax = fig.add_subplot(111)\n",
    "cax = ax.matshow(correlations, vmin=-1, vmax=1)\n",
    "fig.colorbar(cax)\n",
    "ticks = np.arange(0,len(cols)-1,1)\n",
    "ax.set_xticks(ticks)\n",
    "ax.set_yticks(ticks)\n",
    "ax.set_xticklabels(cols)\n",
    "ax.set_yticklabels(cols)\n",
    "plt.show()"
   ]
  },
  {
   "cell_type": "code",
   "execution_count": 110,
   "metadata": {
    "collapsed": false
   },
   "outputs": [],
   "source": [
    "df_features = df_features.sample(frac=1)"
   ]
  },
  {
   "cell_type": "code",
   "execution_count": 111,
   "metadata": {
    "collapsed": true
   },
   "outputs": [],
   "source": [
    "inputV = df_features[[\"Num_Player_Diff\",\"Year\",\"Age_Diff\",\"WAR_Diff\",\"Salary_Diff\"]]"
   ]
  },
  {
   "cell_type": "code",
   "execution_count": 112,
   "metadata": {
    "collapsed": false
   },
   "outputs": [],
   "source": [
    "clfList = [LinearRegression(),linear_model.Ridge(alpha = 0.5),Lasso(),DecisionTreeRegressor(max_depth=7),RandomForestRegressor(max_depth=10),neighbors.KNeighborsRegressor(n_neighbors=100)]"
   ]
  },
  {
   "cell_type": "code",
   "execution_count": 113,
   "metadata": {
    "collapsed": true
   },
   "outputs": [],
   "source": [
    "allRowsList = []\n",
    "for idx,row in inputV.iterrows():\n",
    "    currentRowList = row.values.tolist()\n",
    "    allRowsList.append(currentRowList)"
   ]
  },
  {
   "cell_type": "code",
   "execution_count": 114,
   "metadata": {
    "collapsed": false
   },
   "outputs": [],
   "source": [
    "def calculate_error(actualValue, predictedValue):\n",
    "    plt.xticks(range(-7,7,1))\n",
    "    diff = (actualValue - predictedValue)\n",
    "    ax = sns.distplot(diff, bins=50, label='Error in trade value diff')\n",
    "    meanError = np.mean(diff)\n",
    "    #print \"Mean Error is\", meanError\n",
    "    stdError = np.std(diff)\n",
    "    line1_string = 'Mean'\n",
    "    line2_string = 'Std Dev'\n",
    "    #ax.set_ylim((0,1))\n",
    "    ax.set_xlim((-7,7))   \n",
    "    ax.set_title('Probablity Distribution of Error')\n",
    "    ax1 = ax.plot([meanError,meanError],[0,0.5])\n",
    "    pos1 = [0,0.45]\n",
    "    pos2 = [1,0.4]\n",
    "    pos3 = [-1,0.4]\n",
    "    ax.text(pos1[0], pos1[1], line1_string, size=9, color = 'b', ha=\"center\", va=\"center\")\n",
    "    ax2 = ax.plot([stdError,stdError],[0,0.5], color='r')\n",
    "    ax.text(pos2[0], pos2[1], line2_string, size=9, color = 'b', ha=\"center\", va=\"center\")\n",
    "    ax3 = ax.plot([-stdError,-stdError],[0,0.5], color='r')\n",
    "    ax.text(pos3[0], pos3[1], line2_string, size=9, color = 'b', ha=\"center\", va=\"center\")\n",
    "    ax.set_xlabel('Error in trade value diff')\n",
    "    ax.set_ylabel('Probability')\n",
    "    plt.show()\n",
    "    rms = sqrt(mean_squared_error(actualValue, predictedValue))\n",
    "    print('Root mean square error:', rms)\n",
    "    \n",
    "    r2score = r2_score(actualValue, predictedValue)\n",
    "    print('r2 score:', r2score)\n",
    "    \n",
    "    evs = explained_variance_score(actualValue, predictedValue)\n",
    "    print('Explained variance score',evs)\n",
    "    \n",
    "    mae = mean_absolute_error(actualValue,predictedValue)\n",
    "    print('Mean absolute error:',mae)"
   ]
  },
  {
   "cell_type": "code",
   "execution_count": 115,
   "metadata": {
    "collapsed": false
   },
   "outputs": [
    {
     "name": "stdout",
     "output_type": "stream",
     "text": [
      "\n",
      " LinearRegression(copy_X=True, fit_intercept=True, n_jobs=1, normalize=False)\n"
     ]
    },
    {
     "data": {
      "image/png": "[encoded data removed]",
      "text/plain": [
       "<matplotlib.figure.Figure at 0x7f168887b5f8>"
      ]
     },
     "metadata": {},
     "output_type": "display_data"
    },
    {
     "name": "stdout",
     "output_type": "stream",
     "text": [
      "Root mean square error: 0.7949230310388143\n",
      "r2 score: 0.209761647376\n",
      "Explained variance score 0.210085936828\n",
      "Mean absolute error: 0.470685787294\n",
      "\n",
      " Ridge(alpha=0.5, copy_X=True, fit_intercept=True, max_iter=None,\n",
      "   normalize=False, random_state=None, solver='auto', tol=0.001)\n"
     ]
    },
    {
     "data": {
      "image/png": "[encoded data removed]",
      "text/plain": [
       "<matplotlib.figure.Figure at 0x7f16589bce10>"
      ]
     },
     "metadata": {},
     "output_type": "display_data"
    },
    {
     "name": "stdout",
     "output_type": "stream",
     "text": [
      "Root mean square error: 0.7949223134050668\n",
      "r2 score: 0.209763074184\n",
      "Explained variance score 0.210087344686\n",
      "Mean absolute error: 0.47068449256\n",
      "\n",
      " Lasso(alpha=1.0, copy_X=True, fit_intercept=True, max_iter=1000,\n",
      "   normalize=False, positive=False, precompute=False, random_state=None,\n",
      "   selection='cyclic', tol=0.0001, warm_start=False)\n"
     ]
    },
    {
     "data": {
      "image/png": "[encoded data removed]",
      "text/plain": [
       "<matplotlib.figure.Figure at 0x7f1683f975f8>"
      ]
     },
     "metadata": {},
     "output_type": "display_data"
    },
    {
     "name": "stdout",
     "output_type": "stream",
     "text": [
      "Root mean square error: 0.8613231950835746\n",
      "r2 score: 0.0722302049703\n",
      "Explained variance score 0.0724826164752\n",
      "Mean absolute error: 0.52443538875\n",
      "\n",
      " DecisionTreeRegressor(criterion='mse', max_depth=7, max_features=None,\n",
      "           max_leaf_nodes=None, min_samples_leaf=1, min_samples_split=2,\n",
      "           min_weight_fraction_leaf=0.0, presort=False, random_state=None,\n",
      "           splitter='best')\n"
     ]
    },
    {
     "data": {
      "image/png": "[encoded data removed]",
      "text/plain": [
       "<matplotlib.figure.Figure at 0x7f165b6304e0>"
      ]
     },
     "metadata": {},
     "output_type": "display_data"
    },
    {
     "name": "stdout",
     "output_type": "stream",
     "text": [
      "Root mean square error: 0.8481982097736426\n",
      "r2 score: 0.100289794441\n",
      "Explained variance score 0.100372545406\n",
      "Mean absolute error: 0.460918302736\n",
      "\n",
      " RandomForestRegressor(bootstrap=True, criterion='mse', max_depth=10,\n",
      "           max_features='auto', max_leaf_nodes=None, min_samples_leaf=1,\n",
      "           min_samples_split=2, min_weight_fraction_leaf=0.0,\n",
      "           n_estimators=10, n_jobs=1, oob_score=False, random_state=None,\n",
      "           verbose=0, warm_start=False)\n"
     ]
    },
    {
     "data": {
      "image/png": "[encoded data removed]",
      "text/plain": [
       "<matplotlib.figure.Figure at 0x7f168807e438>"
      ]
     },
     "metadata": {},
     "output_type": "display_data"
    },
    {
     "name": "stdout",
     "output_type": "stream",
     "text": [
      "Root mean square error: 0.8169505367598855\n",
      "r2 score: 0.16535947279\n",
      "Explained variance score 0.165359476705\n",
      "Mean absolute error: 0.455619899812\n",
      "\n",
      " KNeighborsRegressor(algorithm='auto', leaf_size=30, metric='minkowski',\n",
      "          metric_params=None, n_jobs=1, n_neighbors=100, p=2,\n",
      "          weights='uniform')\n"
     ]
    },
    {
     "data": {
      "image/png": "[encoded data removed]",
      "text/plain": [
       "<matplotlib.figure.Figure at 0x7f167409fb70>"
      ]
     },
     "metadata": {},
     "output_type": "display_data"
    },
    {
     "name": "stdout",
     "output_type": "stream",
     "text": [
      "Root mean square error: 0.8722545713581719\n",
      "r2 score: 0.0485314180675\n",
      "Explained variance score 0.0487745185036\n",
      "Mean absolute error: 0.524070956214\n"
     ]
    }
   ],
   "source": [
    "from sklearn.metrics import f1_score\n",
    "for i in clfList:\n",
    "    clf = i.fit(allRowsList[:3963],df_features['Abs_Trade_Value_Diff'][:3963] )\n",
    "    print(\"\\n\",i)\n",
    "    predicted = clf.predict(allRowsList[3963:])\n",
    "    calculate_error(df_features['Abs_Trade_Value_Diff'][3963:], predicted)"
   ]
  },
  {
   "cell_type": "code",
   "execution_count": 116,
   "metadata": {
    "collapsed": false
   },
   "outputs": [
    {
     "data": {
      "image/png": "[encoded data removed]",
      "text/plain": [
       "<matplotlib.figure.Figure at 0x7f16587a34e0>"
      ]
     },
     "metadata": {},
     "output_type": "display_data"
    },
    {
     "name": "stdout",
     "output_type": "stream",
     "text": [
      "Root mean square error: 0.7949058900299981\n",
      "r2 score: 0.209795726994\n",
      "Explained variance score 0.209928727894\n",
      "Mean absolute error: 0.45568865359\n"
     ]
    }
   ],
   "source": [
    "from sklearn.preprocessing import PolynomialFeatures\n",
    "from sklearn import linear_model\n",
    "poly = PolynomialFeatures(degree=2)\n",
    "X_ = poly.fit_transform(allRowsList[:3963])\n",
    "predict_ = poly.fit_transform(allRowsList[3963:])\n",
    "\n",
    "clf = linear_model.LinearRegression()\n",
    "clf.fit(X_, df_features['Trade_Value_Diff'][:3963])\n",
    "pred = clf.predict(predict_)\n",
    "calculate_error(df_features['Trade_Value_Diff'][3963:], pred)"
   ]
  },
  {
   "cell_type": "code",
   "execution_count": 134,
   "metadata": {
    "collapsed": false
   },
   "outputs": [],
   "source": [
    "df_pref_features = df_features\n",
    "inputV = df_pref_features[[\"Num_Player_Diff\",\"Year\",\"Age_Diff\",\"WAR_Diff\",\"Salary_Diff\"]]"
   ]
  },
  {
   "cell_type": "code",
   "execution_count": 127,
   "metadata": {
    "collapsed": false
   },
   "outputs": [
    {
     "data": {
      "text/plain": [
       "1442"
      ]
     },
     "execution_count": 127,
     "metadata": {},
     "output_type": "execute_result"
    }
   ],
   "source": [
    "len(df_pref_features)"
   ]
  },
  {
   "cell_type": "code",
   "execution_count": 135,
   "metadata": {
    "collapsed": true
   },
   "outputs": [],
   "source": [
    "allRowsList = []\n",
    "for idx,row in inputV.iterrows():\n",
    "    currentRowList = row.values.tolist()\n",
    "    allRowsList.append(currentRowList)"
   ]
  },
  {
   "cell_type": "code",
   "execution_count": 136,
   "metadata": {
    "collapsed": false
   },
   "outputs": [
    {
     "name": "stdout",
     "output_type": "stream",
     "text": [
      "5622\n"
     ]
    }
   ],
   "source": [
    "X_ = poly.fit_transform(allRowsList)\n",
    "predict_ = poly.fit_transform(allRowsList)\n",
    "pred = clf.predict(predict_)\n",
    "print(len(pred))\n",
    "df_pref_features['Predicted_Trade_Diff'] = pred"
   ]
  },
  {
   "cell_type": "code",
   "execution_count": 137,
   "metadata": {
    "collapsed": false
   },
   "outputs": [
    {
     "name": "stderr",
     "output_type": "stream",
     "text": [
      "/usr/local/lib/python3.4/dist-packages/ipykernel/__main__.py:1: FutureWarning: sort(columns=....) is deprecated, use sort_values(by=.....)\n",
      "  if __name__ == '__main__':\n"
     ]
    }
   ],
   "source": [
    "df_pref_features = df_pref_features.sort(columns='Predicted_Trade_Diff',ascending=False)"
   ]
  },
  {
   "cell_type": "code",
   "execution_count": 138,
   "metadata": {
    "collapsed": false
   },
   "outputs": [],
   "source": [
    "pred_df = pd.DataFrame(columns = ['Rank','Date','Team1','Team2','Players Team1','Player Team2','Trade Value Diff'])\n",
    "k = 0\n",
    "for index,row in df_pref_features.iterrows():\n",
    "    tranID = row['TranID']\n",
    "    value = row['Predicted_Trade_Diff']\n",
    "    tran = df_tran[df_tran['transaction-ID'] == tranID]\n",
    "    teams = tran['from-team'].unique()\n",
    "    t1 = teams[0]\n",
    "    t2 = teams[1]\n",
    "    p1List = []\n",
    "    p2List = []\n",
    "    for index,row in tran.iterrows():\n",
    "        pl = df_master[df_master['retroID'] == row['player']]\n",
    "        if row['from-team'] == t1:\n",
    "            p1List.append(''.join(pl['nameFirst'].values +\" \"+ pl['nameLast'].values))\n",
    "        else:\n",
    "            p2List.append(''.join(pl['nameFirst'].values + \" \" + pl['nameLast'].values))\n",
    "    p1str = ','.join(p1List)\n",
    "    p2str = ','.join(p2List)\n",
    "    date = tran['primary-date'].iloc[0]\n",
    "    pred_df.loc[k] = [int(k+1),date,t1,t2,p1str,p2str,value]\n",
    "    k += 1"
   ]
  },
  {
   "cell_type": "code",
   "execution_count": 142,
   "metadata": {
    "collapsed": false
   },
   "outputs": [],
   "source": [
    "pred_df.to_csv(\"Predicted_Ranks.csv\")"
   ]
  },
  {
   "cell_type": "code",
   "execution_count": 3,
   "metadata": {
    "collapsed": false
   },
   "outputs": [],
   "source": [
    "df_manager = pd.read_csv('../dataset/Managers.csv')"
   ]
  },
  {
   "cell_type": "code",
   "execution_count": 4,
   "metadata": {
    "collapsed": false
   },
   "outputs": [
    {
     "name": "stderr",
     "output_type": "stream",
     "text": [
      "C:\\Users\\ANKIT\\Anaconda\\lib\\site-packages\\ipykernel\\__main__.py:1: FutureWarning: sort(columns=....) is deprecated, use sort_values(by=.....)\n",
      "  if __name__ == '__main__':\n",
      "C:\\Users\\ANKIT\\Anaconda\\lib\\site-packages\\ipykernel\\__main__.py:12: SettingWithCopyWarning: \n",
      "A value is trying to be set on a copy of a slice from a DataFrame\n",
      "\n",
      "See the caveats in the documentation: http://pandas.pydata.org/pandas-docs/stable/indexing.html#indexing-view-versus-copy\n",
      "C:\\Users\\ANKIT\\Anaconda\\lib\\site-packages\\ipykernel\\__main__.py:13: SettingWithCopyWarning: \n",
      "A value is trying to be set on a copy of a slice from a DataFrame\n",
      "\n",
      "See the caveats in the documentation: http://pandas.pydata.org/pandas-docs/stable/indexing.html#indexing-view-versus-copy\n",
      "C:\\Users\\ANKIT\\Anaconda\\lib\\site-packages\\ipykernel\\__main__.py:14: SettingWithCopyWarning: \n",
      "A value is trying to be set on a copy of a slice from a DataFrame\n",
      "\n",
      "See the caveats in the documentation: http://pandas.pydata.org/pandas-docs/stable/indexing.html#indexing-view-versus-copy\n"
     ]
    }
   ],
   "source": [
    "df_manager= df_manager.sort( ['playerID','yearID'] )\n",
    "playerID= ''\n",
    "yearID= ''\n",
    "win = 0\n",
    "loss= 0\n",
    "Game= 0\n",
    "for i, row in df_manager.iterrows():\n",
    "    if playerID == row['playerID']:\n",
    "        loss = row['L'] + loss\n",
    "        win = row['W'] + win\n",
    "        Game = row['G'] + Game\n",
    "        df_manager['W'][i] = win;\n",
    "        df_manager['L'][i] = loss;\n",
    "        df_manager['G'][i] = Game;\n",
    "        \n",
    "    else:\n",
    "        playerID= row['playerID']\n",
    "        yearID= row['yearID']\n",
    "        win = row['W']\n",
    "        loss = row['L']\n",
    "        Game = row['G']"
   ]
  },
  {
   "cell_type": "code",
   "execution_count": 24,
   "metadata": {
    "collapsed": false
   },
   "outputs": [
    {
     "data": {
      "text/html": [
       "<div>\n",
       "<table border=\"1\" class=\"dataframe\">\n",
       "  <thead>\n",
       "    <tr style=\"text-align: right;\">\n",
       "      <th></th>\n",
       "      <th>playerID</th>\n",
       "      <th>yearID</th>\n",
       "      <th>teamID</th>\n",
       "      <th>lgID</th>\n",
       "      <th>inseason</th>\n",
       "      <th>G</th>\n",
       "      <th>W</th>\n",
       "      <th>L</th>\n",
       "      <th>rank</th>\n",
       "      <th>plyrMgr</th>\n",
       "    </tr>\n",
       "  </thead>\n",
       "  <tbody>\n",
       "    <tr>\n",
       "      <th>242</th>\n",
       "      <td>ansonca01</td>\n",
       "      <td>1886</td>\n",
       "      <td>CHN</td>\n",
       "      <td>NL</td>\n",
       "      <td>1</td>\n",
       "      <td>776</td>\n",
       "      <td>521</td>\n",
       "      <td>245</td>\n",
       "      <td>1.0</td>\n",
       "      <td>Y</td>\n",
       "    </tr>\n",
       "    <tr>\n",
       "      <th>231</th>\n",
       "      <td>barnibi01</td>\n",
       "      <td>1886</td>\n",
       "      <td>BL2</td>\n",
       "      <td>AA</td>\n",
       "      <td>1</td>\n",
       "      <td>454</td>\n",
       "      <td>180</td>\n",
       "      <td>262</td>\n",
       "      <td>8.0</td>\n",
       "      <td>Y</td>\n",
       "    </tr>\n",
       "    <tr>\n",
       "      <th>232</th>\n",
       "      <td>byrnech99</td>\n",
       "      <td>1886</td>\n",
       "      <td>BR3</td>\n",
       "      <td>AA</td>\n",
       "      <td>1</td>\n",
       "      <td>216</td>\n",
       "      <td>114</td>\n",
       "      <td>98</td>\n",
       "      <td>3.0</td>\n",
       "      <td>N</td>\n",
       "    </tr>\n",
       "    <tr>\n",
       "      <th>233</th>\n",
       "      <td>cayloop99</td>\n",
       "      <td>1886</td>\n",
       "      <td>CN2</td>\n",
       "      <td>AA</td>\n",
       "      <td>1</td>\n",
       "      <td>253</td>\n",
       "      <td>128</td>\n",
       "      <td>122</td>\n",
       "      <td>5.0</td>\n",
       "      <td>N</td>\n",
       "    </tr>\n",
       "    <tr>\n",
       "      <th>240</th>\n",
       "      <td>comisch01</td>\n",
       "      <td>1886</td>\n",
       "      <td>SL4</td>\n",
       "      <td>AA</td>\n",
       "      <td>1</td>\n",
       "      <td>295</td>\n",
       "      <td>200</td>\n",
       "      <td>93</td>\n",
       "      <td>1.0</td>\n",
       "      <td>Y</td>\n",
       "    </tr>\n",
       "    <tr>\n",
       "      <th>236</th>\n",
       "      <td>fergubo01</td>\n",
       "      <td>1886</td>\n",
       "      <td>NY4</td>\n",
       "      <td>AA</td>\n",
       "      <td>2</td>\n",
       "      <td>919</td>\n",
       "      <td>411</td>\n",
       "      <td>492</td>\n",
       "      <td>7.0</td>\n",
       "      <td>N</td>\n",
       "    </tr>\n",
       "    <tr>\n",
       "      <th>249</th>\n",
       "      <td>gaffnjo99</td>\n",
       "      <td>1886</td>\n",
       "      <td>WS8</td>\n",
       "      <td>NL</td>\n",
       "      <td>2</td>\n",
       "      <td>43</td>\n",
       "      <td>15</td>\n",
       "      <td>25</td>\n",
       "      <td>8.0</td>\n",
       "      <td>N</td>\n",
       "    </tr>\n",
       "    <tr>\n",
       "      <th>235</th>\n",
       "      <td>giffoji99</td>\n",
       "      <td>1886</td>\n",
       "      <td>NY4</td>\n",
       "      <td>AA</td>\n",
       "      <td>1</td>\n",
       "      <td>212</td>\n",
       "      <td>74</td>\n",
       "      <td>136</td>\n",
       "      <td>7.0</td>\n",
       "      <td>N</td>\n",
       "    </tr>\n",
       "    <tr>\n",
       "      <th>234</th>\n",
       "      <td>hartji99</td>\n",
       "      <td>1886</td>\n",
       "      <td>LS2</td>\n",
       "      <td>AA</td>\n",
       "      <td>1</td>\n",
       "      <td>250</td>\n",
       "      <td>119</td>\n",
       "      <td>129</td>\n",
       "      <td>4.0</td>\n",
       "      <td>N</td>\n",
       "    </tr>\n",
       "    <tr>\n",
       "      <th>241</th>\n",
       "      <td>morrijo01</td>\n",
       "      <td>1886</td>\n",
       "      <td>BSN</td>\n",
       "      <td>NL</td>\n",
       "      <td>1</td>\n",
       "      <td>476</td>\n",
       "      <td>253</td>\n",
       "      <td>215</td>\n",
       "      <td>5.0</td>\n",
       "      <td>Y</td>\n",
       "    </tr>\n",
       "    <tr>\n",
       "      <th>245</th>\n",
       "      <td>mutriji99</td>\n",
       "      <td>1886</td>\n",
       "      <td>NY1</td>\n",
       "      <td>NL</td>\n",
       "      <td>1</td>\n",
       "      <td>445</td>\n",
       "      <td>289</td>\n",
       "      <td>145</td>\n",
       "      <td>3.0</td>\n",
       "      <td>N</td>\n",
       "    </tr>\n",
       "    <tr>\n",
       "      <th>239</th>\n",
       "      <td>phillho99</td>\n",
       "      <td>1886</td>\n",
       "      <td>PT1</td>\n",
       "      <td>AA</td>\n",
       "      <td>1</td>\n",
       "      <td>430</td>\n",
       "      <td>189</td>\n",
       "      <td>235</td>\n",
       "      <td>2.0</td>\n",
       "      <td>N</td>\n",
       "    </tr>\n",
       "    <tr>\n",
       "      <th>244</th>\n",
       "      <td>roweda01</td>\n",
       "      <td>1886</td>\n",
       "      <td>KCN</td>\n",
       "      <td>NL</td>\n",
       "      <td>1</td>\n",
       "      <td>126</td>\n",
       "      <td>30</td>\n",
       "      <td>91</td>\n",
       "      <td>7.0</td>\n",
       "      <td>Y</td>\n",
       "    </tr>\n",
       "    <tr>\n",
       "      <th>248</th>\n",
       "      <td>scanlmi99</td>\n",
       "      <td>1886</td>\n",
       "      <td>WS8</td>\n",
       "      <td>NL</td>\n",
       "      <td>1</td>\n",
       "      <td>196</td>\n",
       "      <td>60</td>\n",
       "      <td>132</td>\n",
       "      <td>8.0</td>\n",
       "      <td>N</td>\n",
       "    </tr>\n",
       "    <tr>\n",
       "      <th>247</th>\n",
       "      <td>schmegu99</td>\n",
       "      <td>1886</td>\n",
       "      <td>SL5</td>\n",
       "      <td>NL</td>\n",
       "      <td>1</td>\n",
       "      <td>236</td>\n",
       "      <td>112</td>\n",
       "      <td>118</td>\n",
       "      <td>6.0</td>\n",
       "      <td>N</td>\n",
       "    </tr>\n",
       "    <tr>\n",
       "      <th>238</th>\n",
       "      <td>sharsbi99</td>\n",
       "      <td>1886</td>\n",
       "      <td>PH4</td>\n",
       "      <td>AA</td>\n",
       "      <td>2</td>\n",
       "      <td>41</td>\n",
       "      <td>22</td>\n",
       "      <td>17</td>\n",
       "      <td>6.0</td>\n",
       "      <td>N</td>\n",
       "    </tr>\n",
       "    <tr>\n",
       "      <th>237</th>\n",
       "      <td>simmole99</td>\n",
       "      <td>1886</td>\n",
       "      <td>PH4</td>\n",
       "      <td>AA</td>\n",
       "      <td>1</td>\n",
       "      <td>98</td>\n",
       "      <td>41</td>\n",
       "      <td>55</td>\n",
       "      <td>6.0</td>\n",
       "      <td>N</td>\n",
       "    </tr>\n",
       "    <tr>\n",
       "      <th>243</th>\n",
       "      <td>watkibi01</td>\n",
       "      <td>1886</td>\n",
       "      <td>DTN</td>\n",
       "      <td>NL</td>\n",
       "      <td>1</td>\n",
       "      <td>219</td>\n",
       "      <td>125</td>\n",
       "      <td>90</td>\n",
       "      <td>2.0</td>\n",
       "      <td>N</td>\n",
       "    </tr>\n",
       "    <tr>\n",
       "      <th>246</th>\n",
       "      <td>wrighha01</td>\n",
       "      <td>1886</td>\n",
       "      <td>PHI</td>\n",
       "      <td>NL</td>\n",
       "      <td>1</td>\n",
       "      <td>1261</td>\n",
       "      <td>755</td>\n",
       "      <td>489</td>\n",
       "      <td>4.0</td>\n",
       "      <td>N</td>\n",
       "    </tr>\n",
       "  </tbody>\n",
       "</table>\n",
       "</div>"
      ],
      "text/plain": [
       "      playerID  yearID teamID lgID  inseason     G    W    L  rank plyrMgr\n",
       "242  ansonca01    1886    CHN   NL         1   776  521  245   1.0       Y\n",
       "231  barnibi01    1886    BL2   AA         1   454  180  262   8.0       Y\n",
       "232  byrnech99    1886    BR3   AA         1   216  114   98   3.0       N\n",
       "233  cayloop99    1886    CN2   AA         1   253  128  122   5.0       N\n",
       "240  comisch01    1886    SL4   AA         1   295  200   93   1.0       Y\n",
       "236  fergubo01    1886    NY4   AA         2   919  411  492   7.0       N\n",
       "249  gaffnjo99    1886    WS8   NL         2    43   15   25   8.0       N\n",
       "235  giffoji99    1886    NY4   AA         1   212   74  136   7.0       N\n",
       "234   hartji99    1886    LS2   AA         1   250  119  129   4.0       N\n",
       "241  morrijo01    1886    BSN   NL         1   476  253  215   5.0       Y\n",
       "245  mutriji99    1886    NY1   NL         1   445  289  145   3.0       N\n",
       "239  phillho99    1886    PT1   AA         1   430  189  235   2.0       N\n",
       "244   roweda01    1886    KCN   NL         1   126   30   91   7.0       Y\n",
       "248  scanlmi99    1886    WS8   NL         1   196   60  132   8.0       N\n",
       "247  schmegu99    1886    SL5   NL         1   236  112  118   6.0       N\n",
       "238  sharsbi99    1886    PH4   AA         2    41   22   17   6.0       N\n",
       "237  simmole99    1886    PH4   AA         1    98   41   55   6.0       N\n",
       "243  watkibi01    1886    DTN   NL         1   219  125   90   2.0       N\n",
       "246  wrighha01    1886    PHI   NL         1  1261  755  489   4.0       N"
      ]
     },
     "execution_count": 24,
     "metadata": {},
     "output_type": "execute_result"
    }
   ],
   "source": [
    "df_manager[df_manager['yearID'] == 1886]"
   ]
  },
  {
   "cell_type": "code",
   "execution_count": 12,
   "metadata": {
    "collapsed": false
   },
   "outputs": [
    {
     "data": {
      "text/html": [
       "<div>\n",
       "<table border=\"1\" class=\"dataframe\">\n",
       "  <thead>\n",
       "    <tr style=\"text-align: right;\">\n",
       "      <th></th>\n",
       "      <th>primary-date</th>\n",
       "      <th>time</th>\n",
       "      <th>approximate-indicator</th>\n",
       "      <th>secondary-date</th>\n",
       "      <th>approximate-indicator</th>\n",
       "      <th>transaction-ID</th>\n",
       "      <th>player</th>\n",
       "      <th>type</th>\n",
       "      <th>from-team</th>\n",
       "      <th>from-league</th>\n",
       "      <th>to-team</th>\n",
       "      <th>to-league</th>\n",
       "      <th>draft-type</th>\n",
       "      <th>draft-round</th>\n",
       "      <th>pick-number</th>\n",
       "      <th>info</th>\n",
       "      <th>tranYear</th>\n",
       "    </tr>\n",
       "  </thead>\n",
       "  <tbody>\n",
       "    <tr>\n",
       "      <th>58667</th>\n",
       "      <td>1886-12-01 00:00:00</td>\n",
       "      <td>NaN</td>\n",
       "      <td>NaN</td>\n",
       "      <td>NaN</td>\n",
       "      <td>NaN</td>\n",
       "      <td>48198</td>\n",
       "      <td>NaN</td>\n",
       "      <td>T</td>\n",
       "      <td>PIT</td>\n",
       "      <td>NL</td>\n",
       "      <td>SL5</td>\n",
       "      <td>NL</td>\n",
       "      <td>NaN</td>\n",
       "      <td>NaN</td>\n",
       "      <td>NaN</td>\n",
       "      <td>$400</td>\n",
       "      <td>1886</td>\n",
       "    </tr>\n",
       "    <tr>\n",
       "      <th>58668</th>\n",
       "      <td>1886-12-01 00:00:00</td>\n",
       "      <td>NaN</td>\n",
       "      <td>NaN</td>\n",
       "      <td>NaN</td>\n",
       "      <td>NaN</td>\n",
       "      <td>48198</td>\n",
       "      <td>schoo101</td>\n",
       "      <td>T</td>\n",
       "      <td>PIT</td>\n",
       "      <td>NL</td>\n",
       "      <td>SL5</td>\n",
       "      <td>NL</td>\n",
       "      <td>NaN</td>\n",
       "      <td>NaN</td>\n",
       "      <td>NaN</td>\n",
       "      <td>NaN</td>\n",
       "      <td>1886</td>\n",
       "    </tr>\n",
       "    <tr>\n",
       "      <th>58669</th>\n",
       "      <td>1886-12-01 00:00:00</td>\n",
       "      <td>NaN</td>\n",
       "      <td>NaN</td>\n",
       "      <td>NaN</td>\n",
       "      <td>NaN</td>\n",
       "      <td>48198</td>\n",
       "      <td>mckia101</td>\n",
       "      <td>T</td>\n",
       "      <td>SL5</td>\n",
       "      <td>NL</td>\n",
       "      <td>PIT</td>\n",
       "      <td>NL</td>\n",
       "      <td>NaN</td>\n",
       "      <td>NaN</td>\n",
       "      <td>NaN</td>\n",
       "      <td>NaN</td>\n",
       "      <td>1886</td>\n",
       "    </tr>\n",
       "    <tr>\n",
       "      <th>58697</th>\n",
       "      <td>1887-04-21 00:00:00</td>\n",
       "      <td>NaN</td>\n",
       "      <td>NaN</td>\n",
       "      <td>NaN</td>\n",
       "      <td>NaN</td>\n",
       "      <td>48204</td>\n",
       "      <td>vanhg101</td>\n",
       "      <td>T</td>\n",
       "      <td>PIT</td>\n",
       "      <td>NL</td>\n",
       "      <td>CHN</td>\n",
       "      <td>NL</td>\n",
       "      <td>NaN</td>\n",
       "      <td>NaN</td>\n",
       "      <td>NaN</td>\n",
       "      <td>NaN</td>\n",
       "      <td>1887</td>\n",
       "    </tr>\n",
       "    <tr>\n",
       "      <th>58696</th>\n",
       "      <td>1887-04-21 00:00:00</td>\n",
       "      <td>NaN</td>\n",
       "      <td>NaN</td>\n",
       "      <td>NaN</td>\n",
       "      <td>NaN</td>\n",
       "      <td>48204</td>\n",
       "      <td>NaN</td>\n",
       "      <td>T</td>\n",
       "      <td>PIT</td>\n",
       "      <td>NL</td>\n",
       "      <td>CHN</td>\n",
       "      <td>NL</td>\n",
       "      <td>NaN</td>\n",
       "      <td>NaN</td>\n",
       "      <td>NaN</td>\n",
       "      <td>$2000</td>\n",
       "      <td>1887</td>\n",
       "    </tr>\n",
       "  </tbody>\n",
       "</table>\n",
       "</div>"
      ],
      "text/plain": [
       "             primary-date  time  approximate-indicator  secondary-date  \\\n",
       "58667 1886-12-01 00:00:00   NaN                    NaN             NaN   \n",
       "58668 1886-12-01 00:00:00   NaN                    NaN             NaN   \n",
       "58669 1886-12-01 00:00:00   NaN                    NaN             NaN   \n",
       "58697 1887-04-21 00:00:00   NaN                    NaN             NaN   \n",
       "58696 1887-04-21 00:00:00   NaN                    NaN             NaN   \n",
       "\n",
       "       approximate-indicator  transaction-ID    player type from-team  \\\n",
       "58667                    NaN           48198       NaN   T        PIT   \n",
       "58668                    NaN           48198  schoo101   T        PIT   \n",
       "58669                    NaN           48198  mckia101   T        SL5   \n",
       "58697                    NaN           48204  vanhg101   T        PIT   \n",
       "58696                    NaN           48204       NaN   T        PIT   \n",
       "\n",
       "      from-league to-team to-league draft-type  draft-round  pick-number  \\\n",
       "58667          NL     SL5        NL        NaN          NaN          NaN   \n",
       "58668          NL     SL5        NL        NaN          NaN          NaN   \n",
       "58669          NL     PIT        NL        NaN          NaN          NaN   \n",
       "58697          NL     CHN        NL        NaN          NaN          NaN   \n",
       "58696          NL     CHN        NL        NaN          NaN          NaN   \n",
       "\n",
       "        info  tranYear  \n",
       "58667   $400      1886  \n",
       "58668    NaN      1886  \n",
       "58669    NaN      1886  \n",
       "58697    NaN      1887  \n",
       "58696  $2000      1887  "
      ]
     },
     "execution_count": 12,
     "metadata": {},
     "output_type": "execute_result"
    }
   ],
   "source": [
    "df_sort.head()"
   ]
  },
  {
   "cell_type": "code",
   "execution_count": null,
   "metadata": {
    "collapsed": false
   },
   "outputs": [],
   "source": [
    "manager_df = pd.DataFrame(columns = ['tran_ID','tran_Year','Team1','Team1_mgr','Team1_mgr_score','Team2','Team2_mgr','Team2_mgr_score'])\n",
    "df_sort = df_tran.sort(['transaction-ID'])\n",
    "td = df_sort['transaction-ID'].unique()\n",
    "manager_df['tran_ID'] = td\n",
    "for i,row in manager_df.iterrows():\n",
    "    count += 1;\n",
    "    tran_id = df_sort[df_sort['transaction-ID']==row['tran_ID']].iloc[0]\n",
    "    manager_df['tran_Year'][i] = tran_id['tranYear']\n",
    "    manager_df['Team1'][i] = tran_id['from-team']\n",
    "    manager_df['Team2'][i] = tran_id['to-team']\n",
    "    mgr_table1 = df_manager['yearID'] == tran_id['tranYear']\n",
    "    mgr_table2 = df_manager['teamID'] == tran_id['from-team']\n",
    "    mgr_table = df_manager[mgr_table1 & mgr_table2]\n",
    "    \n",
    "    if mgr_table.empty:\n",
    "        print 'empty'\n",
    "    else:\n",
    "        manager_df['Team1_mgr'][i] = mgr_table['playerID'].iloc[0];\n",
    "        manager_df['Team1_mgr_score'][i] = mgr_table['W'].iloc[0]-mgr_table['L'].iloc[0];\n",
    "    \n",
    "    mgr_table1 = df_manager['yearID'] == tran_id['tranYear']\n",
    "    mgr_table2 = df_manager['teamID'] == tran_id['to-team']\n",
    "    mgr_table = df_manager[mgr_table1 & mgr_table2]\n",
    "    if mgr_table.empty:\n",
    "        #print 'empty'\n",
    "    else:\n",
    "        manager_df['Team2_mgr'][i] = mgr_table['playerID'].iloc[0];\n",
    "        manager_df['Team2_mgr_score'][i] = mgr_table['W'].iloc[0]-mgr_table['L'].iloc[0];\n",
    "    \n",
    "                      \n",
    "    "
   ]
  },
  {
   "cell_type": "code",
   "execution_count": null,
   "metadata": {
    "collapsed": false
   },
   "outputs": [],
   "source": [
    "manager_df.head()"
   ]
  },
  {
   "cell_type": "code",
   "execution_count": null,
   "metadata": {
    "collapsed": true
   },
   "outputs": [],
   "source": []
  }
 ],
 "metadata": {
  "anaconda-cloud": {},
  "kernelspec": {
   "display_name": "Python [Root]",
   "language": "python",
   "name": "Python [Root]"
  },
  "language_info": {
   "codemirror_mode": {
    "name": "ipython",
    "version": 2
   },
   "file_extension": ".py",
   "mimetype": "text/x-python",
   "name": "python",
   "nbconvert_exporter": "python",
   "pygments_lexer": "ipython2",
   "version": "2.7.12"
  },
  "widgets": {
   "state": {},
   "version": "1.1.2"
  }
 },
 "nbformat": 4,
 "nbformat_minor": 0
}
